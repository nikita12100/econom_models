{
 "cells": [
  {
   "cell_type": "markdown",
   "metadata": {},
   "source": [
    "# Эмулятор классического рынка"
   ]
  },
  {
   "cell_type": "markdown",
   "metadata": {},
   "source": [
    "Сущности: потребитель, продукт и фабрика. \n",
    "    Потребитель имеет потрбеность в продукте, фиксированный доход за период и логику потребления: приобретает продукт максимального качестве, если может себе это позволить. Среди всех доступных ему продуктов максимального качества покупает самый дешёвый. \n",
    "    Продут имеет цену и единую метрику качества (чем метрика больше, тем продукт качественней). \n",
    "    Фабрика проивзодит продукт. Фабрика имеет предел по текущему качеству продукции, себестоимость, бюджет и функции проивзодства, продажи и модернизации. Фабрика производит продукт с заданными характеристиками, если это не протвиоречит параметрам фабрики. Фабрика продаёт продукт, если есть, кому его купить. Фабрика каждый период тратит случайное число денег на случайное изменение качества и цены продукта. "
   ]
  },
  {
   "cell_type": "markdown",
   "metadata": {},
   "source": [
    "# Внешние импорты"
   ]
  },
  {
   "cell_type": "code",
   "execution_count": 1,
   "metadata": {},
   "outputs": [],
   "source": [
    "import random\n",
    "import numpy as np\n",
    "import pandas as pd\n",
    "\n",
    "#настройки, с которыми лучше\n",
    "pd.set_option('display.max_rows', 45000)\n",
    "pd.set_option('display.max_columns', 50000)\n",
    "pd.set_option('display.max_colwidth', 5000)\n"
   ]
  },
  {
   "cell_type": "markdown",
   "metadata": {},
   "source": [
    "# Классы и функции"
   ]
  },
  {
   "cell_type": "code",
   "execution_count": 2,
   "metadata": {},
   "outputs": [],
   "source": [
    "# класс потребителя\n",
    "class citizen:\n",
    "    def __init__(self, id=0, money=100):\n",
    "        # id\n",
    "        self.id=id\n",
    "        # доход за период\n",
    "        self.money=money\n",
    "    \n",
    "    # функция потребления продуктов\n",
    "    def consume(self, products):\n",
    "        # возвращать будем продукт\n",
    "        res=product(id=-1)\n",
    "        av_pr_lst=[]\n",
    "        # цикл для фильтрации тех, что не карману\n",
    "        for pr in products:\n",
    "            if self.money>=pr.price:\n",
    "                av_pr_lst.append(pr)\n",
    "        \n",
    "        best_price=10000\n",
    "        best_qv=0\n",
    "        # цикл поиска лучшего качества\n",
    "        for pr in av_pr_lst:\n",
    "            if pr.quality>=best_qv:\n",
    "                best_qv=pr.quality\n",
    "        \n",
    "        pr_qv_lst=[]\n",
    "        # сбор всех продуктов лучшего качества\n",
    "        for pr in av_pr_lst:\n",
    "            if pr.quality==best_qv:\n",
    "                pr_qv_lst.append(pr)\n",
    "        \n",
    "        # выбор из них тех, что дешевле\n",
    "        for pr in pr_qv_lst:\n",
    "            if pr.price<=best_price:\n",
    "                best_price=pr.price\n",
    "        \n",
    "        # вывод продукта с лучшими характеристиками\n",
    "        for pr in pr_qv_lst:\n",
    "            if pr.price==best_price:\n",
    "                res=pr\n",
    "                break\n",
    "        \n",
    "        return res  \n",
    "    \n",
    "    def to_df(self):\n",
    "        return pd.DataFrame(data=[self.__dict__.values()], columns=self.__dict__.keys())\n",
    "\n",
    "# класс продукта      \n",
    "class product:\n",
    "    def __init__(self, id=-1, quality=-100, price=-10000):\n",
    "        self.id=id\n",
    "        self.quality=quality\n",
    "        self.price=price\n",
    "\n",
    "        \n",
    "# класс фабрики        \n",
    "class factory:\n",
    "    def __init__(self, id=-1, max_quality=0, cost=0, capital=0,\n",
    "                 pur=0, price=0, \n",
    "                 capital_history=[], cost_history=[], quality_history=[],\n",
    "                 pur_history=[], price_history=[], history=pd.DataFrame()\n",
    "                ):\n",
    "        # id\n",
    "        self.id=id\n",
    "        # предел качества продукта, меньше - можно\n",
    "        self.max_quality=max_quality\n",
    "        # себестоимость\n",
    "        self.cost=cost\n",
    "        # деньги у завода\n",
    "        self.capital=capital\n",
    "        # продажи текущего периода\n",
    "        self.pur=pur\n",
    "        # цена продажи текущего периода\n",
    "        self.price=price\n",
    "        # история изменения капитала\n",
    "        self.capital_history=capital_history\n",
    "        # история изменения себестоимости\n",
    "        self.cost_history=cost_history\n",
    "        # история изменения качества\n",
    "        self.quality_history=quality_history\n",
    "        # история изменения числа продаж\n",
    "        self.pur_history=pur_history\n",
    "        # история изменения цен\n",
    "        self.price_history=price_history\n",
    "        self.history=history\n",
    "        \n",
    "    #  функция проищводтсва\n",
    "    def produce(self, id, price, quality):\n",
    "        # если норм по капиталам, себестоимости и производственным мощностям, то вперёд\n",
    "        if (price>self.cost) and (quality<=self.max_quality) and (self.check()==0):\n",
    "            return product(id=id, quality=quality, price=price)\n",
    "        else:\n",
    "            return product(id=-1)\n",
    "    \n",
    "    # функция проверки кредитоспособности\n",
    "    def check(self):\n",
    "        if self.capital<=0:\n",
    "            return -1\n",
    "        else:\n",
    "            return 0\n",
    "    \n",
    "    # функкция сделки\n",
    "    def trade(self, citizen, product):\n",
    "        # расходы на производство считаем здесь, чтобы не заморачиваться пока остатками\n",
    "        self.capital=self.capital-self.cost\n",
    "        if self.check()==0:\n",
    "            # потратили - тут же зарабатываем\n",
    "            self.price=product.price\n",
    "            # поднимаем счётчики\n",
    "            self.pur=self.pur+1\n",
    "            self.capital=self.capital+self.price\n",
    "        else:\n",
    "            pass\n",
    "#         print('cit ', citizen.id, ': ', 'product ', product.id\n",
    "#               , 'price ', product.price, 'cap ', self.capital\n",
    "#               , 'own_id ', self.id, 'own_price ', self.price \n",
    "#              )\n",
    "        \n",
    "        # залогируем всё\n",
    "        lst=[citizen.id, citizen.money, product.id, product.price, product.quality]\n",
    "        return pd.DataFrame([lst], columns=['citizen_id', 'citizen_money', 'product_id', 'price', 'quality'])\n",
    "\n",
    "    # храним историю продаж, запускаем в конце цикла\n",
    "    def hist(self, period):\n",
    "#         print(self.id)\n",
    "#         capital_history=[]\n",
    "#         cost_history=[]\n",
    "#         quality_history=[]\n",
    "#         pur_history=[]\n",
    "#         price_history=[]\n",
    "        \n",
    "#         capital_history.append(self.capital)\n",
    "#         cost_history.append(self.cost)\n",
    "#         quality_history.append(self.max_quality)\n",
    "#         pur_history.append(self.pur)\n",
    "#         price_history.append(self.price)\n",
    "        \n",
    "        \n",
    "#         self.capital_history=capital_history\n",
    "#         self.cost_history=cost_history\n",
    "#         self.quality_history=quality_history\n",
    "#         self.pur_history=pur_history\n",
    "#         self.price_history=price_history\n",
    "\n",
    "#         self.capital_history.append(self.capital)\n",
    "#         self.cost_history.append(self.cost)\n",
    "#         self.quality_history.append(self.max_quality)\n",
    "#         self.pur_history.append(self.pur)\n",
    "#         self.price_history.append(self.price)\n",
    "        \n",
    "#         buf=self.to_df().copy()\n",
    "#         buf['period']=period\n",
    "#         self.history=pd.concat([self.history, buf])\n",
    "\n",
    "        self.pur_history.append(self.pur)\n",
    "\n",
    "        \n",
    "        \n",
    "#         return buf\n",
    "        \n",
    "    # функция модернизации\n",
    "    def modernise(self, capd, costd, qvd):\n",
    "        # если у нас были продажи, то экспериментируем\n",
    "        # если нет - вернулись к тому, что было изначально\n",
    "#         if (self.pur>0)&(self.capital+capd>0):\n",
    "        if (self.capital+capd>0):\n",
    "            if self.max_quality+qvd>0:\n",
    "                self.max_quality=self.max_quality+qvd\n",
    "            if self.cost+costd>0:\n",
    "                self.cost=self.cost+costd\n",
    "            self.capital=self.capital+capd\n",
    "            \n",
    "        # и теперь обнуляем счётчики текущего цикла\n",
    "        self.price=0\n",
    "        self.pur=0\n",
    "            \n",
    "    def to_df(self):\n",
    "        df=pd.DataFrame(data=[self.__dict__.values()], columns=self.__dict__.keys())\n",
    "        df=df.drop(columns=['history'])\n",
    "        return df\n",
    "        \n"
   ]
  },
  {
   "cell_type": "code",
   "execution_count": 3,
   "metadata": {},
   "outputs": [],
   "source": [
    "# функция рынка, то есть встречи потребителей и продуктов\n",
    "def market(cit_lst, fact_lst, period):\n",
    "    N=len(cit_lst)\n",
    "    # производим продукты\n",
    "    products=[]\n",
    "    for f in fact_lst:\n",
    "        if f.check()==0:\n",
    "            p=f.produce(id=f.id, price=f.cost+1, quality=f.max_quality)\n",
    "            products.append(p)\n",
    "\n",
    "            \n",
    "    k=len(products)\n",
    "    m_df=pd.DataFrame()        \n",
    "    # жители потребляют то, что нравится больше всего\n",
    "    for i in range(N):\n",
    "        cons=cit_lst[i].consume(products)\n",
    "        trade_num=0\n",
    "        for j in range(k):\n",
    "            if products[j].id==cons.id:\n",
    "                trade_num=j\n",
    "                break\n",
    "        # покупка одним жителем одного продукта\n",
    "        # бага\n",
    "        t=pd.DataFrame()\n",
    "        for f in fact_lst:\n",
    "#             print('pr ', products[trade_num].id)\n",
    "#             print('fact', f.id)\n",
    "            if f.id==products[trade_num].id:\n",
    "#                 print('+')\n",
    "                t=f.trade(cit_lst[i], products[trade_num])\n",
    "                \n",
    "#         t=fact_lst[products[trade_num].id].trade(cit_lst[i], products[trade_num])\n",
    "        m_df=pd.concat([m_df, t]) \n",
    "    m_df['period']=period\n",
    "\n",
    "    return m_df\n",
    "\n",
    "# всё, что должно происходить за один период\n",
    "def round(cit_lst, fact_lst, period):\n",
    "    # производство и покупки\n",
    "    m_df=market(cit_lst, fact_lst, period)\n",
    "    \n",
    "    # модернизации и логирование\n",
    "    k=len(fact_lst)\n",
    "    for j in range(1,k):\n",
    "        fact_lst[j].hist(period)\n",
    "        \n",
    "        capd=np.round(random.normalvariate(capd_avarage, capd_disp),0)\n",
    "        costd=np.round(random.normalvariate(costd_avarage, costd_disp),0)\n",
    "        qvd=np.round(random.normalvariate(qvd_avarage, qvd_disp),0)\n",
    "        \n",
    "#         print('factory_id ', fact_lst[j].id, 'qv ', qvd)\n",
    "        fact_lst[j].modernise(capd, costd, qvd)\n",
    "        \n",
    "    return m_df\n",
    "\n",
    "# основная функция, полное моделирование\n",
    "def modelate(cit_lst, fact_lst, rounds):\n",
    "    k=len(fact_lst)\n",
    "    # логирование\n",
    "    for j in range(1,k):\n",
    "        fact_lst[j].hist(0)\n",
    "\n",
    "    # цикл по периодам\n",
    "    market_df=pd.DataFrame()\n",
    "    for i in range(1,rounds+1):\n",
    "        m_df=round(cit_lst, fact_lst, i)\n",
    "        market_df=pd.concat([market_df, m_df])\n",
    "        \n",
    "    # вывод результатов \n",
    "    factories_df=pd.DataFrame()\n",
    "    for j in range(k):\n",
    "        f_buf=fact_lst[j].history\n",
    "        f_buf['factory_id']=fact_lst[j].id\n",
    "        factories_df=pd.concat([factories_df, f_buf])\n",
    "        \n",
    "    return market_df, factories_df"
   ]
  },
  {
   "cell_type": "code",
   "execution_count": 4,
   "metadata": {},
   "outputs": [],
   "source": [
    "# для тестов\n",
    "N=3\n",
    "\n",
    "c0=citizen(id=0, money=1)\n",
    "c1=citizen(id=1, money=25)\n",
    "c2=citizen(id=2, money=80)\n",
    "cit_lst=[c0,c1,c2]\n",
    "# cit_lst=[c1]\n",
    "\n",
    "k=3\n",
    "f0=factory(id=-1, max_quality=0, cost=-1, capital=10000)\n",
    "f1=factory(id=0, max_quality=10, cost=10, capital=300)\n",
    "f2=factory(id=1, max_quality=30, cost=60, capital=1000)\n",
    "\n",
    "fact_lst=[f0, f1, f2]\n",
    "\n",
    "\n",
    "# # число жителей\n",
    "# N=2000\n",
    "# # разброс зарплат\n",
    "# max_salary=100\n",
    "# min_salary=5\n",
    "\n",
    "# cit_lst=[]\n",
    "# for i in range(N):\n",
    "#     cit=citizen(id=i, money=np.round(random.gammavariate(3, 10),0))\n",
    "#     cit_lst.append(cit)\n",
    "        \n",
    "\n",
    "# # число заводов\n",
    "# k=50\n",
    "# # разброс расходов\n",
    "# max_cost=50\n",
    "# min_cost=15\n",
    "\n",
    "# # разброс качества\n",
    "# max_qv=30\n",
    "# min_qv=2\n",
    "\n",
    "# # разброс капитала\n",
    "# cap_avarage=1000\n",
    "# cap_disp=300\n",
    "\n",
    "# fact_lst=[]\n",
    "# f0=factory(id=-1, max_quality=0, cost=-1, capital=10000)\n",
    "# fact_lst.append(f0)\n",
    "\n",
    "# for j in range(k):\n",
    "#     f=factory(id=j, \n",
    "#               max_quality=random.randint(min_qv, max_qv), \n",
    "#               cost=random.randint(min_cost, max_cost), \n",
    "#               capital=random.normalvariate(cap_avarage, cap_disp)) \n",
    "#     fact_lst.append(f)\n",
    "\n",
    "\n",
    "# разброс инвестиций\n",
    "capd_avarage=-100\n",
    "capd_disp=5\n",
    "\n",
    "# разброс изменений себестоимости\n",
    "costd_avarage=-5\n",
    "costd_disp=5\n",
    "\n",
    "# разброс изменений качества\n",
    "qvd_avarage=-4\n",
    "qvd_disp=6\n"
   ]
  },
  {
   "cell_type": "code",
   "execution_count": 5,
   "metadata": {},
   "outputs": [
    {
     "data": {
      "text/plain": [
       "[]"
      ]
     },
     "execution_count": 5,
     "metadata": {},
     "output_type": "execute_result"
    }
   ],
   "source": [
    "fact_lst[1].pur_history"
   ]
  },
  {
   "cell_type": "code",
   "execution_count": 6,
   "metadata": {},
   "outputs": [],
   "source": [
    "fact_lst[1].hist(0)\n",
    "fact_lst[2].hist(0)\n",
    "fact_lst[1].pur=150\n",
    "fact_lst[2].pur=300\n",
    "fact_lst[1].hist(0)\n",
    "fact_lst[2].hist(0)\n",
    "fact_lst[1].pur=15\n",
    "fact_lst[2].pur=30\n",
    "fact_lst[1].hist(0)\n",
    "fact_lst[2].hist(0)\n",
    "fact_lst[1].pur=1500\n",
    "fact_lst[2].pur=3000\n",
    "fact_lst[1].hist(0)\n",
    "fact_lst[2].hist(0)"
   ]
  },
  {
   "cell_type": "code",
   "execution_count": 7,
   "metadata": {},
   "outputs": [
    {
     "data": {
      "text/plain": [
       "[0, 0, 150, 300, 15, 30, 1500, 3000]"
      ]
     },
     "execution_count": 7,
     "metadata": {},
     "output_type": "execute_result"
    }
   ],
   "source": [
    "fact_lst[1].pur_history"
   ]
  },
  {
   "cell_type": "code",
   "execution_count": 8,
   "metadata": {},
   "outputs": [
    {
     "data": {
      "text/plain": [
       "[0, 0, 150, 300, 15, 30, 1500, 3000]"
      ]
     },
     "execution_count": 8,
     "metadata": {},
     "output_type": "execute_result"
    }
   ],
   "source": [
    "fact_lst[2].pur_history"
   ]
  },
  {
   "cell_type": "code",
   "execution_count": null,
   "metadata": {},
   "outputs": [],
   "source": [
    "asddas"
   ]
  },
  {
   "cell_type": "code",
   "execution_count": null,
   "metadata": {},
   "outputs": [],
   "source": []
  },
  {
   "cell_type": "code",
   "execution_count": null,
   "metadata": {},
   "outputs": [],
   "source": [
    "fact_lst[0].capital_history"
   ]
  },
  {
   "cell_type": "code",
   "execution_count": null,
   "metadata": {},
   "outputs": [],
   "source": [
    "m, f=modelate(cit_lst, fact_lst, 5)"
   ]
  },
  {
   "cell_type": "code",
   "execution_count": null,
   "metadata": {},
   "outputs": [],
   "source": []
  },
  {
   "cell_type": "code",
   "execution_count": null,
   "metadata": {},
   "outputs": [],
   "source": []
  },
  {
   "cell_type": "code",
   "execution_count": null,
   "metadata": {},
   "outputs": [],
   "source": []
  },
  {
   "cell_type": "code",
   "execution_count": null,
   "metadata": {},
   "outputs": [],
   "source": [
    "f.sort_values(by=['id', 'period'])[['period', 'id', 'capital', 'cost', 'price', 'max_quality', 'pur']]"
   ]
  },
  {
   "cell_type": "code",
   "execution_count": null,
   "metadata": {},
   "outputs": [],
   "source": [
    "m"
   ]
  },
  {
   "cell_type": "code",
   "execution_count": null,
   "metadata": {},
   "outputs": [],
   "source": [
    "pv_cap=f.pivot_table(index='period', columns='id', values='capital').fillna(0)\n",
    "pv_pur=f.pivot_table(index='period', columns='id', values='pur').fillna(0)\n",
    "pv_price=f.pivot_table(index='period', columns='id', values='price').fillna(0)\n",
    "pv_qv=f.pivot_table(index='period', columns='id', values='max_quality').fillna(0)"
   ]
  },
  {
   "cell_type": "code",
   "execution_count": null,
   "metadata": {},
   "outputs": [],
   "source": [
    "pv_pur.plot(figsize=(14, 8), legend=False, title='pur')"
   ]
  },
  {
   "cell_type": "code",
   "execution_count": null,
   "metadata": {},
   "outputs": [],
   "source": [
    "pv_price.plot(figsize=(14, 8), legend=False, title='price')"
   ]
  },
  {
   "cell_type": "code",
   "execution_count": null,
   "metadata": {},
   "outputs": [],
   "source": [
    "pv_qv.plot(figsize=(14, 8), legend=False, title='qv')"
   ]
  },
  {
   "cell_type": "code",
   "execution_count": null,
   "metadata": {},
   "outputs": [],
   "source": [
    "pv_cap.plot(figsize=(14, 8), legend=False, title='capitalisation')"
   ]
  },
  {
   "cell_type": "code",
   "execution_count": null,
   "metadata": {},
   "outputs": [],
   "source": [
    "m[0:3]"
   ]
  },
  {
   "cell_type": "code",
   "execution_count": null,
   "metadata": {},
   "outputs": [],
   "source": [
    "f.sort_values(by=['id', 'period'])[['period', 'id', 'capital', 'cost', 'price', 'max_quality', 'pur']]"
   ]
  },
  {
   "cell_type": "code",
   "execution_count": null,
   "metadata": {},
   "outputs": [],
   "source": [
    "m[m['period']==1][['citizen_money']].hist()"
   ]
  },
  {
   "cell_type": "code",
   "execution_count": null,
   "metadata": {},
   "outputs": [],
   "source": [
    "m.groupby(['period', 'product_id']).agg({'citizen_id': lambda x: x.nunique()})"
   ]
  },
  {
   "cell_type": "code",
   "execution_count": null,
   "metadata": {},
   "outputs": [],
   "source": [
    "f[f['id']==13]"
   ]
  },
  {
   "cell_type": "code",
   "execution_count": null,
   "metadata": {},
   "outputs": [],
   "source": [
    "f[f['period']==10]"
   ]
  },
  {
   "cell_type": "code",
   "execution_count": null,
   "metadata": {},
   "outputs": [],
   "source": []
  },
  {
   "cell_type": "code",
   "execution_count": null,
   "metadata": {},
   "outputs": [],
   "source": []
  },
  {
   "cell_type": "code",
   "execution_count": null,
   "metadata": {},
   "outputs": [],
   "source": []
  },
  {
   "cell_type": "code",
   "execution_count": null,
   "metadata": {},
   "outputs": [],
   "source": []
  },
  {
   "cell_type": "code",
   "execution_count": null,
   "metadata": {},
   "outputs": [],
   "source": []
  },
  {
   "cell_type": "code",
   "execution_count": null,
   "metadata": {},
   "outputs": [],
   "source": []
  },
  {
   "cell_type": "code",
   "execution_count": null,
   "metadata": {},
   "outputs": [],
   "source": []
  },
  {
   "cell_type": "code",
   "execution_count": null,
   "metadata": {},
   "outputs": [],
   "source": []
  },
  {
   "cell_type": "code",
   "execution_count": null,
   "metadata": {},
   "outputs": [],
   "source": []
  },
  {
   "cell_type": "code",
   "execution_count": null,
   "metadata": {},
   "outputs": [],
   "source": []
  },
  {
   "cell_type": "code",
   "execution_count": null,
   "metadata": {},
   "outputs": [],
   "source": []
  },
  {
   "cell_type": "code",
   "execution_count": null,
   "metadata": {},
   "outputs": [],
   "source": []
  },
  {
   "cell_type": "code",
   "execution_count": null,
   "metadata": {},
   "outputs": [],
   "source": []
  },
  {
   "cell_type": "code",
   "execution_count": null,
   "metadata": {},
   "outputs": [],
   "source": []
  },
  {
   "cell_type": "code",
   "execution_count": null,
   "metadata": {},
   "outputs": [],
   "source": []
  },
  {
   "cell_type": "code",
   "execution_count": null,
   "metadata": {},
   "outputs": [],
   "source": []
  },
  {
   "cell_type": "code",
   "execution_count": null,
   "metadata": {},
   "outputs": [],
   "source": []
  },
  {
   "cell_type": "code",
   "execution_count": null,
   "metadata": {},
   "outputs": [],
   "source": []
  },
  {
   "cell_type": "code",
   "execution_count": null,
   "metadata": {},
   "outputs": [],
   "source": []
  },
  {
   "cell_type": "code",
   "execution_count": null,
   "metadata": {},
   "outputs": [],
   "source": []
  },
  {
   "cell_type": "code",
   "execution_count": null,
   "metadata": {},
   "outputs": [],
   "source": []
  },
  {
   "cell_type": "code",
   "execution_count": null,
   "metadata": {},
   "outputs": [],
   "source": []
  },
  {
   "cell_type": "code",
   "execution_count": null,
   "metadata": {},
   "outputs": [],
   "source": []
  },
  {
   "cell_type": "code",
   "execution_count": null,
   "metadata": {},
   "outputs": [],
   "source": []
  },
  {
   "cell_type": "code",
   "execution_count": null,
   "metadata": {},
   "outputs": [],
   "source": []
  },
  {
   "cell_type": "code",
   "execution_count": null,
   "metadata": {},
   "outputs": [],
   "source": []
  },
  {
   "cell_type": "code",
   "execution_count": null,
   "metadata": {},
   "outputs": [],
   "source": []
  },
  {
   "cell_type": "code",
   "execution_count": null,
   "metadata": {},
   "outputs": [],
   "source": []
  },
  {
   "cell_type": "code",
   "execution_count": null,
   "metadata": {},
   "outputs": [],
   "source": []
  },
  {
   "cell_type": "code",
   "execution_count": null,
   "metadata": {},
   "outputs": [],
   "source": []
  },
  {
   "cell_type": "code",
   "execution_count": null,
   "metadata": {},
   "outputs": [],
   "source": []
  },
  {
   "cell_type": "code",
   "execution_count": null,
   "metadata": {},
   "outputs": [],
   "source": []
  },
  {
   "cell_type": "code",
   "execution_count": null,
   "metadata": {},
   "outputs": [],
   "source": []
  },
  {
   "cell_type": "code",
   "execution_count": null,
   "metadata": {},
   "outputs": [],
   "source": []
  },
  {
   "cell_type": "code",
   "execution_count": null,
   "metadata": {},
   "outputs": [],
   "source": []
  },
  {
   "cell_type": "code",
   "execution_count": null,
   "metadata": {},
   "outputs": [],
   "source": []
  },
  {
   "cell_type": "code",
   "execution_count": null,
   "metadata": {},
   "outputs": [],
   "source": []
  },
  {
   "cell_type": "code",
   "execution_count": null,
   "metadata": {},
   "outputs": [],
   "source": []
  },
  {
   "cell_type": "code",
   "execution_count": null,
   "metadata": {},
   "outputs": [],
   "source": []
  },
  {
   "cell_type": "code",
   "execution_count": null,
   "metadata": {},
   "outputs": [],
   "source": []
  },
  {
   "cell_type": "code",
   "execution_count": null,
   "metadata": {},
   "outputs": [],
   "source": []
  },
  {
   "cell_type": "code",
   "execution_count": null,
   "metadata": {},
   "outputs": [],
   "source": []
  },
  {
   "cell_type": "code",
   "execution_count": null,
   "metadata": {},
   "outputs": [],
   "source": []
  },
  {
   "cell_type": "code",
   "execution_count": null,
   "metadata": {},
   "outputs": [],
   "source": []
  },
  {
   "cell_type": "code",
   "execution_count": null,
   "metadata": {},
   "outputs": [],
   "source": []
  },
  {
   "cell_type": "code",
   "execution_count": null,
   "metadata": {},
   "outputs": [],
   "source": []
  },
  {
   "cell_type": "code",
   "execution_count": null,
   "metadata": {},
   "outputs": [],
   "source": []
  },
  {
   "cell_type": "code",
   "execution_count": null,
   "metadata": {},
   "outputs": [],
   "source": []
  },
  {
   "cell_type": "code",
   "execution_count": null,
   "metadata": {},
   "outputs": [],
   "source": []
  },
  {
   "cell_type": "code",
   "execution_count": null,
   "metadata": {},
   "outputs": [],
   "source": []
  },
  {
   "cell_type": "code",
   "execution_count": null,
   "metadata": {},
   "outputs": [],
   "source": [
    "# функция преобразования массива объектов класса жителей в датафрейм\n",
    "def cit_to_df(lst):\n",
    "    ids=[]\n",
    "    ms=[]\n",
    "    for c in lst:\n",
    "        ids.append(c.id)\n",
    "        ms.append(c.money)\n",
    "    \n",
    "    df=pd.DataFrame([ids, ms]).T\n",
    "    df.columns=['citizen_id', 'citizen_money']\n",
    "    df['citizen_id']=df['citizen_id'].astype('int')\n",
    "    \n",
    "    return df\n",
    "\n",
    "# функция преобразования массива объектов класса фабрик в датафрейм\n",
    "def fact_to_df(lst):\n",
    "    ids=[]\n",
    "    cap=[]\n",
    "    mq=[]\n",
    "    cst=[]\n",
    "    for c in lst:\n",
    "        ids.append(c.id)\n",
    "        cap.append(c.capital)\n",
    "        mq.append(c.max_quality)\n",
    "        cst.append(c.cost)\n",
    "    \n",
    "    df=pd.DataFrame([ids, cap, mq, cst]).T\n",
    "    df.columns=['factory_id', 'factory_capitalisation', 'factory_max_quality', 'factory_cost']\n",
    "    df['factory_id']=df['factory_id'].astype('int')\n",
    "    df['factory_max_quality']=df['factory_max_quality'].astype('int')\n",
    "    \n",
    "    return df"
   ]
  },
  {
   "cell_type": "code",
   "execution_count": null,
   "metadata": {},
   "outputs": [],
   "source": [
    "def market(period, citizens, factories):\n",
    "    products=[]\n",
    "    # заводы производят продукты\n",
    "    for f in factories:\n",
    "        if f.check()==0:\n",
    "            p=f.produce(id=f.id, price=f.cost+1, quality=f.max_quality)\n",
    "            products.append(p)"
   ]
  },
  {
   "cell_type": "code",
   "execution_count": null,
   "metadata": {},
   "outputs": [],
   "source": []
  },
  {
   "cell_type": "code",
   "execution_count": null,
   "metadata": {},
   "outputs": [],
   "source": []
  },
  {
   "cell_type": "code",
   "execution_count": null,
   "metadata": {},
   "outputs": [],
   "source": []
  },
  {
   "cell_type": "code",
   "execution_count": null,
   "metadata": {},
   "outputs": [],
   "source": [
    "#### число жителей\n",
    "N=50\n",
    "# разброс зарплат\n",
    "max_salary=100\n",
    "min_salary=5\n",
    "cit_lst=[]\n",
    "for i in range(N):\n",
    "    cit=citizen(id=i, money=random.gammavariate(3, 10))\n",
    "    cit_lst.append(cit)\n",
    "    \n",
    "fact_lst=[]\n",
    "f12=factory(id=0, \n",
    "          max_quality=30, \n",
    "          cost=30, \n",
    "          capital=1000)\n",
    "fact_lst.append(f12)\n",
    "          \n",
    "          \n",
    "f14=factory(id=1, \n",
    "          max_quality=10, \n",
    "          cost=10, \n",
    "          capital=300)\n",
    "fact_lst.append(f14)\n",
    "          \n",
    "fct_df=fact_to_df(fact_lst)\n",
    "c_df=cit_to_df(cit_lst)"
   ]
  },
  {
   "cell_type": "code",
   "execution_count": null,
   "metadata": {},
   "outputs": [],
   "source": [
    "fct_df"
   ]
  },
  {
   "cell_type": "code",
   "execution_count": null,
   "metadata": {},
   "outputs": [],
   "source": [
    "c_df[0:3]"
   ]
  },
  {
   "cell_type": "code",
   "execution_count": null,
   "metadata": {},
   "outputs": [],
   "source": [
    "# функция рынка - место встречи спроса и предложения\n",
    "def market_old(period, citizens, factories):\n",
    "    products=[]\n",
    "    # заводы производят продукты\n",
    "    for f in factories:\n",
    "        if f.capital>0:\n",
    "            p=f.produce(id=f.id, price=f.cost+1, quality=f.max_quality)\n",
    "            products.append(p)\n",
    "        \n",
    "    cid_lst=[]\n",
    "    prod_lst=[]\n",
    "    fact_lst=[]\n",
    "    price_lst=[]\n",
    "    qv_lst=[]\n",
    "    money_lst=[]\n",
    "    \n",
    "    # жители потребляют то, что нравится больше всего\n",
    "    for i in range(N):\n",
    "        cons=citizens[i].consume(products)\n",
    "        try:\n",
    "            factories[cons.id].sell(cons)\n",
    "            cid_lst.append(i)\n",
    "            prod_lst.append(cons.id)\n",
    "            fact_lst.append(cons.id)\n",
    "            price_lst.append(cons.price)\n",
    "            qv_lst.append(cons.quality)\n",
    "            money_lst.append(citizens[i].money)\n",
    "        except:\n",
    "            pass\n",
    "\n",
    "    # логируем результаты со стороны рынка\n",
    "    market_log_df=pd.DataFrame([cid_lst, money_lst, prod_lst, fact_lst, price_lst, qv_lst]).T\n",
    "    market_log_df.columns=['citizen_id', 'citizen_money', 'product_id', 'factory_id', 'price', 'qv']\n",
    "    market_log_df['citizen_id']=market_log_df['citizen_id'].astype('int')\n",
    "    market_log_df['product_id']=market_log_df['product_id'].astype('int')\n",
    "    market_log_df['factory_id']=market_log_df['factory_id'].astype('int')\n",
    "    return market_log_df\n",
    "\n",
    "\n",
    "        "
   ]
  },
  {
   "cell_type": "markdown",
   "metadata": {},
   "source": [
    "# Определяем структуру"
   ]
  },
  {
   "cell_type": "code",
   "execution_count": null,
   "metadata": {},
   "outputs": [],
   "source": [
    "# число жителей\n",
    "N=2000\n",
    "# разброс зарплат\n",
    "max_salary=100\n",
    "min_salary=5\n",
    "\n",
    "# число заводов\n",
    "k=50\n",
    "# разброс расходов\n",
    "max_cost=50\n",
    "min_cost=15\n",
    "\n",
    "# разброс качества\n",
    "max_qv=30\n",
    "min_qv=2\n",
    "\n",
    "# разброс капитала\n",
    "cap_avarage=1000\n",
    "cap_disp=300"
   ]
  },
  {
   "cell_type": "code",
   "execution_count": null,
   "metadata": {},
   "outputs": [],
   "source": [
    "cit_lst=[]\n",
    "for i in range(N):\n",
    "    # равномерный рандом\n",
    "#     cit=citizen(id=i, money=random.randint(min_salary, max_salary))\n",
    "    # нормально распределённый рандом\n",
    "#     cit=citizen(id=i, money=random.normalvariate((max_salary-min_salary)/2, 10))\n",
    "    # распределение, похожее на реальное\n",
    "    cit=citizen(id=i, money=random.gammavariate(3, 10))\n",
    "    cit_lst.append(cit)"
   ]
  },
  {
   "cell_type": "code",
   "execution_count": null,
   "metadata": {},
   "outputs": [],
   "source": [
    "fact_lst=[]\n",
    "for j in range(k):\n",
    "    f=factory(id=j, \n",
    "              max_quality=random.randint(min_qv, max_qv), \n",
    "              cost=random.randint(min_cost, max_cost), \n",
    "              capital=random.normalvariate(cap_avarage, cap_disp)) \n",
    "    fact_lst.append(f)"
   ]
  },
  {
   "cell_type": "code",
   "execution_count": null,
   "metadata": {},
   "outputs": [],
   "source": [
    "# # для тестирования\n",
    "# cit_lst=[]\n",
    "# cit_lst.append(citizen(id=0, money=10))\n",
    "# cit_lst.append(citizen(id=1, money=50))\n",
    "\n",
    "# fact_lst=[]\n",
    "# fact_lst.append(factory(id=0, \n",
    "#               max_quality=10, \n",
    "#               cost=3, \n",
    "#               capital=1000))\n",
    "\n",
    "# fact_lst.append(factory(id=1, \n",
    "#               max_quality=99, \n",
    "#               cost=30, \n",
    "#               capital=5000))"
   ]
  },
  {
   "cell_type": "markdown",
   "metadata": {},
   "source": [
    "# Моделируем"
   ]
  },
  {
   "cell_type": "markdown",
   "metadata": {},
   "source": [
    "## Модель спроса"
   ]
  },
  {
   "cell_type": "code",
   "execution_count": null,
   "metadata": {},
   "outputs": [],
   "source": [
    "cit_df=cit_to_df(cit_lst)"
   ]
  },
  {
   "cell_type": "code",
   "execution_count": null,
   "metadata": {},
   "outputs": [],
   "source": [
    "cit_df['citizen_money'].hist()"
   ]
  },
  {
   "cell_type": "code",
   "execution_count": null,
   "metadata": {},
   "outputs": [],
   "source": [
    "nn=[]\n",
    "rng=range(1, 100, 1)\n",
    "for pr in rng:\n",
    "    ch=[]\n",
    "    for i in range(N):\n",
    "        cons=cit_lst[i].consume([product(id=1, quality=pr, price=pr)])\n",
    "        if cons.id>=0:\n",
    "            ch.append(cons.price)\n",
    "    nn.append(len(ch))\n",
    "spros_df=pd.DataFrame(nn, index=rng)"
   ]
  },
  {
   "cell_type": "code",
   "execution_count": null,
   "metadata": {},
   "outputs": [],
   "source": [
    "spros_df.plot()"
   ]
  },
  {
   "cell_type": "markdown",
   "metadata": {},
   "source": [
    "## Модель предложения"
   ]
  },
  {
   "cell_type": "code",
   "execution_count": null,
   "metadata": {},
   "outputs": [],
   "source": [
    "fct_df=fact_to_df(fact_lst)"
   ]
  },
  {
   "cell_type": "code",
   "execution_count": null,
   "metadata": {},
   "outputs": [],
   "source": [
    "fct_df.set_index('factory_id')[['factory_capitalisation']].plot(kind='bar', figsize=(9,4))"
   ]
  },
  {
   "cell_type": "code",
   "execution_count": null,
   "metadata": {},
   "outputs": [],
   "source": [
    "fct_df.set_index('factory_id')[['factory_cost']].plot(kind='bar', figsize=(9,4))"
   ]
  },
  {
   "cell_type": "code",
   "execution_count": null,
   "metadata": {},
   "outputs": [],
   "source": [
    "fct_df.set_index('factory_id')[['factory_max_quality']].plot(kind='bar', figsize=(9,4))"
   ]
  },
  {
   "cell_type": "code",
   "execution_count": null,
   "metadata": {},
   "outputs": [],
   "source": [
    "qv=2\n",
    "pp=[]\n",
    "rng=range(1, 100, 1) \n",
    "for pr in rng:\n",
    "    pred_lst=[]\n",
    "    for j in range(k):\n",
    "        r=fact_lst[j].produce(id=j, price=pr, quality=qv)\n",
    "        if r.price>0:\n",
    "            pred_lst.append(r.price)\n",
    "    pp.append(len(pred_lst))\n",
    "pred_df=pd.DataFrame(pp, index=rng)"
   ]
  },
  {
   "cell_type": "code",
   "execution_count": null,
   "metadata": {},
   "outputs": [],
   "source": [
    "pred_df.plot()"
   ]
  },
  {
   "cell_type": "markdown",
   "metadata": {},
   "source": [
    "## Рыночное равновесие"
   ]
  },
  {
   "cell_type": "code",
   "execution_count": null,
   "metadata": {},
   "outputs": [],
   "source": [
    "spros_df=spros_df.reset_index()\n",
    "spros_df['spros_share']=spros_df[0]/np.max(spros_df[0])\n",
    "\n",
    "pred_df=pred_df.reset_index()\n",
    "pred_df['pred_share']=pred_df[0]/np.max(pred_df[0])\n",
    "\n",
    "mrkt=spros_df.merge(pred_df, 'left', on='index')"
   ]
  },
  {
   "cell_type": "code",
   "execution_count": null,
   "metadata": {},
   "outputs": [],
   "source": [
    "mrkt.set_index('index')[['spros_share', 'pred_share']].plot()"
   ]
  },
  {
   "cell_type": "markdown",
   "metadata": {},
   "source": [
    "## Динамика"
   ]
  },
  {
   "cell_type": "code",
   "execution_count": null,
   "metadata": {},
   "outputs": [],
   "source": [
    "# разброс инвестиций\n",
    "capd_avarage=-100\n",
    "capd_disp=50\n",
    "\n",
    "# разброс изменений себестоимости\n",
    "costd_avarage=0\n",
    "costd_disp=3\n",
    "\n",
    "# разброс изменений качества\n",
    "qvd_avarage=0\n",
    "qvd_disp=1"
   ]
  },
  {
   "cell_type": "code",
   "execution_count": null,
   "metadata": {},
   "outputs": [],
   "source": [
    "#### число жителей\n",
    "N=50\n",
    "# разброс зарплат\n",
    "max_salary=100\n",
    "min_salary=5\n",
    "cit_lst=[]\n",
    "for i in range(N):\n",
    "    cit=citizen(id=i, money=random.gammavariate(3, 10))\n",
    "    cit_lst.append(cit)\n",
    "\n",
    "k=2\n",
    "fact_lst=[]\n",
    "f12=factory(id=0, \n",
    "          max_quality=30, \n",
    "          cost=30, \n",
    "          capital=1000)\n",
    "fact_lst.append(f12)\n",
    "          \n",
    "          \n",
    "f14=factory(id=1, \n",
    "          max_quality=10, \n",
    "          cost=10, \n",
    "          capital=300)\n",
    "fact_lst.append(f14)\n",
    "          \n",
    "fct_df=fact_to_df(fact_lst)\n",
    "c_df=cit_to_df(cit_lst)"
   ]
  },
  {
   "cell_type": "code",
   "execution_count": null,
   "metadata": {},
   "outputs": [],
   "source": [
    "fct_df"
   ]
  },
  {
   "cell_type": "code",
   "execution_count": null,
   "metadata": {},
   "outputs": [],
   "source": [
    "c_df"
   ]
  },
  {
   "cell_type": "code",
   "execution_count": null,
   "metadata": {},
   "outputs": [],
   "source": [
    "# обновляем таблицы\n",
    "factories_log=pd.DataFrame()\n",
    "mrkt_log=pd.DataFrame()\n",
    "\n",
    "period_num=0\n",
    "fct_df=fact_to_df(fact_lst)\n",
    "fct_df['period']=period_num\n",
    "fct_df['investions']=0\n",
    "fct_df['qv_diff']=0\n",
    "fct_df['cost_diff']=0\n",
    "fct_df['citizen_id']=0\n",
    "fct_df['price']=0\n",
    "factories_log=pd.concat([factories_log, fct_df ])\n",
    "\n",
    "# наичнаем моделирование\n",
    "for period_num in range(1,3):    \n",
    "    # начинаем продавать-покупать\n",
    "    mrkt=market(period=period_num, citizens=cit_lst, factories=fact_lst)\n",
    "    mrkt['period']=period_num\n",
    "    mrkt_log=pd.concat([mrkt_log, mrkt])\n",
    "    \n",
    "    gr_st=mrkt.groupby(['factory_id']).agg({'citizen_id': lambda x: x.nunique(),\n",
    "                                                'price': np.sum,\n",
    "                                               }).reset_index()\n",
    "    \n",
    "    # вносим измегнения в нашу инфраструктуру\n",
    "    capd_lst=[]\n",
    "    costd_lst=[]\n",
    "    gvd_lst=[]\n",
    "    for j in range(k):\n",
    "        # переменная с историей продаж каждой фабрики\n",
    "        pser=gr_st[gr_st['factory_id']==j]['citizen_id']\n",
    "        if len(pser)!=0:\n",
    "            pur=pser.values[0]\n",
    "        # если нет в списке продаж, то ноль\n",
    "        else:\n",
    "            pur=0\n",
    "        \n",
    "        capd=random.normalvariate(capd_avarage, capd_disp)\n",
    "        costd=random.normalvariate(costd_avarage, costd_disp)\n",
    "        qvd=random.normalvariate(qvd_avarage, qvd_disp)\n",
    "        \n",
    "        capd_lst.append(capd)\n",
    "        costd_lst.append(costd)\n",
    "        gvd_lst.append(qvd)\n",
    "        fact_lst[j].modernise(capd, costd, qvd)\n",
    "        fact_lst[j].hist(hpur=pur, hcapd=capd, hcosts=costd, hqvd=qvd)\n",
    "\n",
    "\n",
    "    # логируем изменения\n",
    "    fct_df=fact_to_df(fact_lst)\n",
    "    \n",
    "    fct_df['period']=period_num\n",
    "    fct_df['investions']=capd_lst\n",
    "    fct_df['qv_diff']=gvd_lst\n",
    "    fct_df['cost_diff']=costd_lst\n",
    "    \n",
    "    \n",
    "    fct_df=fct_df.merge(gr_st, 'left', on='factory_id')\n",
    "    factories_log=pd.concat([factories_log, fct_df])\n",
    "    \n"
   ]
  },
  {
   "cell_type": "code",
   "execution_count": null,
   "metadata": {},
   "outputs": [],
   "source": [
    "mkrt_stat=mrkt_log.groupby(['period', 'product_id', 'price', 'qv']).agg({'citizen_id': lambda x: x.nunique()\n",
    "                                                              }).reset_index()"
   ]
  },
  {
   "cell_type": "code",
   "execution_count": null,
   "metadata": {},
   "outputs": [],
   "source": [
    "mkrt_stat[0:12]"
   ]
  },
  {
   "cell_type": "code",
   "execution_count": null,
   "metadata": {},
   "outputs": [],
   "source": [
    "factories_log.sort_values(by=['factory_id', 'period'], ascending=True)"
   ]
  },
  {
   "cell_type": "code",
   "execution_count": null,
   "metadata": {},
   "outputs": [],
   "source": [
    "22*30"
   ]
  },
  {
   "cell_type": "code",
   "execution_count": null,
   "metadata": {},
   "outputs": [],
   "source": [
    "1000-(22*30)+(22*31)"
   ]
  },
  {
   "cell_type": "code",
   "execution_count": null,
   "metadata": {},
   "outputs": [],
   "source": []
  },
  {
   "cell_type": "code",
   "execution_count": null,
   "metadata": {},
   "outputs": [],
   "source": [
    "mrkt_log[0:3]"
   ]
  },
  {
   "cell_type": "code",
   "execution_count": null,
   "metadata": {},
   "outputs": [],
   "source": [
    "factories_log[0:3]"
   ]
  },
  {
   "cell_type": "code",
   "execution_count": null,
   "metadata": {},
   "outputs": [],
   "source": [
    "diff=factories_log.groupby('period').mean()[['investions','qv_diff', 'cost_diff']]"
   ]
  },
  {
   "cell_type": "code",
   "execution_count": null,
   "metadata": {},
   "outputs": [],
   "source": [
    "diff['investions'].plot()"
   ]
  },
  {
   "cell_type": "code",
   "execution_count": null,
   "metadata": {},
   "outputs": [],
   "source": [
    "diff['qv_diff'].plot()"
   ]
  },
  {
   "cell_type": "code",
   "execution_count": null,
   "metadata": {},
   "outputs": [],
   "source": [
    "diff['cost_diff'].plot()"
   ]
  },
  {
   "cell_type": "code",
   "execution_count": null,
   "metadata": {},
   "outputs": [],
   "source": [
    "sales=factories_log[factories_log['citizen_id']>0]"
   ]
  },
  {
   "cell_type": "code",
   "execution_count": null,
   "metadata": {},
   "outputs": [],
   "source": [
    "sales[0:3]"
   ]
  },
  {
   "cell_type": "code",
   "execution_count": null,
   "metadata": {},
   "outputs": [],
   "source": [
    "sales.groupby('period').mean()['factory_cost'].plot()"
   ]
  },
  {
   "cell_type": "code",
   "execution_count": null,
   "metadata": {},
   "outputs": [],
   "source": [
    "sales.groupby('period').mean()['factory_max_quality'].plot()"
   ]
  },
  {
   "cell_type": "code",
   "execution_count": null,
   "metadata": {},
   "outputs": [],
   "source": [
    "factories_log.groupby('period').mean()[['factory_capitalisation']].plot()"
   ]
  },
  {
   "cell_type": "code",
   "execution_count": null,
   "metadata": {},
   "outputs": [],
   "source": [
    "factories_log[factories_log['factory_capitalisation']<=0].groupby('period').agg(\n",
    "    {'factory_id': lambda x: x.nunique()}).plot()"
   ]
  },
  {
   "cell_type": "code",
   "execution_count": null,
   "metadata": {},
   "outputs": [],
   "source": [
    "mrkt_log[mrkt_log['product_id']>0].groupby('period').agg({'product_id': lambda x: x.nunique()}).plot(kind='bar')"
   ]
  },
  {
   "cell_type": "code",
   "execution_count": null,
   "metadata": {},
   "outputs": [],
   "source": [
    "mrkt_log[mrkt_log['product_id']==-1].groupby('period').agg({'citizen_id': lambda x: x.nunique()}).plot(kind='bar')"
   ]
  },
  {
   "cell_type": "code",
   "execution_count": null,
   "metadata": {},
   "outputs": [],
   "source": [
    "mrkt_log[mrkt_log['product_id']>0].groupby('period').mean()[['price']].plot()"
   ]
  },
  {
   "cell_type": "code",
   "execution_count": null,
   "metadata": {},
   "outputs": [],
   "source": [
    "mrkt_log[mrkt_log['product_id']>0].groupby('period').mean()[['qv']].plot()"
   ]
  },
  {
   "cell_type": "code",
   "execution_count": null,
   "metadata": {},
   "outputs": [],
   "source": [
    "mrkt_log.groupby(['period', 'product_id', 'price', 'qv']).agg({'citizen_id': lambda x: x.nunique(),\n",
    "                                               }\n",
    "                                              )"
   ]
  },
  {
   "cell_type": "code",
   "execution_count": null,
   "metadata": {},
   "outputs": [],
   "source": [
    "#31 41\n",
    "factories_log[factories_log['factory_id']==41]"
   ]
  },
  {
   "cell_type": "code",
   "execution_count": null,
   "metadata": {},
   "outputs": [],
   "source": [
    "factories_log[factories_log['factory_id']==41].set_index('period')[\n",
    "    ['factory_capitalisation']].plot()"
   ]
  },
  {
   "cell_type": "code",
   "execution_count": null,
   "metadata": {},
   "outputs": [],
   "source": [
    "factories_log[factories_log['factory_id']==19].set_index('period')[['factory_capitalisation']].plot()"
   ]
  },
  {
   "cell_type": "code",
   "execution_count": null,
   "metadata": {},
   "outputs": [],
   "source": [
    "mrkt_log[mrkt_log['period']==49].groupby('product_id').agg({'citizen_id': lambda x: x.nunique()})"
   ]
  },
  {
   "cell_type": "code",
   "execution_count": null,
   "metadata": {},
   "outputs": [],
   "source": [
    "#31 41\n",
    "factories_log[factories_log['factory_id']==20]"
   ]
  },
  {
   "cell_type": "code",
   "execution_count": null,
   "metadata": {},
   "outputs": [],
   "source": []
  }
 ],
 "metadata": {
  "kernelspec": {
   "display_name": "Python 3",
   "language": "python",
   "name": "python3"
  },
  "language_info": {
   "codemirror_mode": {
    "name": "ipython",
    "version": 3
   },
   "file_extension": ".py",
   "mimetype": "text/x-python",
   "name": "python",
   "nbconvert_exporter": "python",
   "pygments_lexer": "ipython3",
   "version": "3.7.3"
  }
 },
 "nbformat": 4,
 "nbformat_minor": 2
}
