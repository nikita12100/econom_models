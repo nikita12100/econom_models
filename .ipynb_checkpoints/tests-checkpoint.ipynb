{
 "cells": [
  {
   "cell_type": "code",
   "execution_count": 2,
   "metadata": {},
   "outputs": [],
   "source": [
    "import random\n",
    "import numpy as np\n",
    "import pandas as pd\n",
    "\n",
    "#настройки, с которыми лучше\n",
    "pd.set_option('display.max_rows', 45000)\n",
    "pd.set_option('display.max_columns', 50000)\n",
    "pd.set_option('display.max_colwidth', 5000)\n",
    "\n",
    "import sys\n",
    "import smith as sm\n",
    "\n",
    "import seaborn as sns\n",
    "\n",
    "\n",
    "#увеличим дефолтный размер графиков\n",
    "from pylab import rcParams\n",
    "rcParams['figure.figsize'] = 14, 12"
   ]
  },
  {
   "cell_type": "code",
   "execution_count": 2,
   "metadata": {},
   "outputs": [],
   "source": [
    "a=sm.product()"
   ]
  },
  {
   "cell_type": "code",
   "execution_count": 3,
   "metadata": {},
   "outputs": [
    {
     "data": {
      "text/html": [
       "<div>\n",
       "<style scoped>\n",
       "    .dataframe tbody tr th:only-of-type {\n",
       "        vertical-align: middle;\n",
       "    }\n",
       "\n",
       "    .dataframe tbody tr th {\n",
       "        vertical-align: top;\n",
       "    }\n",
       "\n",
       "    .dataframe thead th {\n",
       "        text-align: right;\n",
       "    }\n",
       "</style>\n",
       "<table border=\"1\" class=\"dataframe\">\n",
       "  <thead>\n",
       "    <tr style=\"text-align: right;\">\n",
       "      <th></th>\n",
       "      <th>id</th>\n",
       "      <th>quality</th>\n",
       "      <th>price</th>\n",
       "    </tr>\n",
       "  </thead>\n",
       "  <tbody>\n",
       "    <tr>\n",
       "      <th>0</th>\n",
       "      <td>-1</td>\n",
       "      <td>-100</td>\n",
       "      <td>-10000</td>\n",
       "    </tr>\n",
       "  </tbody>\n",
       "</table>\n",
       "</div>"
      ],
      "text/plain": [
       "   id  quality  price\n",
       "0  -1     -100 -10000"
      ]
     },
     "execution_count": 3,
     "metadata": {},
     "output_type": "execute_result"
    }
   ],
   "source": [
    "a.to_df()"
   ]
  },
  {
   "cell_type": "code",
   "execution_count": 4,
   "metadata": {},
   "outputs": [],
   "source": [
    "# число жителей\n",
    "N=200\n",
    "\n",
    "# число заводов\n",
    "k=50\n",
    "\n",
    "# parameters\n",
    "# salary\n",
    "citizen_salary_parameter1=3\n",
    "citizen_salary_parameter2=10\n",
    "\n",
    "# параметры для отбора продукта\n",
    "max_price=10000\n",
    "min_qv=0\n",
    "\n",
    "# разброс расходов\n",
    "max_cost=100\n",
    "min_cost=5\n",
    "\n",
    "# разброс качества\n",
    "max_qv=30\n",
    "min_qv=2\n",
    "\n",
    "# разброс капитала\n",
    "cap_avarage=1000\n",
    "cap_disp=300\n",
    "\n",
    "# разброс инвестиций\n",
    "capital_average=-100\n",
    "capital_disp=50\n",
    "\n",
    "# разброс изменений себестоимости\n",
    "cost_average=0\n",
    "cost_disp=5\n",
    "\n",
    "# разброс изменений качества\n",
    "qv_average=0\n",
    "qv_disp=3\n",
    "\n",
    "# число раундов в модели\n",
    "R=10"
   ]
  },
  {
   "cell_type": "code",
   "execution_count": 5,
   "metadata": {},
   "outputs": [],
   "source": [
    "# базовые тесты\n",
    "# проверяем, что продукт создаётся\n",
    "pr_a_df=sm.product(id=0).to_df()\n",
    "pr_b_df=sm.product(id=1, quality=50, price=99).to_df()\n",
    "\n",
    "# проверяем, что житель создаётся\n",
    "cit_a_df=sm.citizen(id=0).to_df()\n",
    "\n",
    "# проверяем распредление зарплат жителей\n",
    "N=50\n",
    "cit_lst=[]\n",
    "cit_df=pd.DataFrame()\n",
    "for i in range(N):\n",
    "    cit=sm.citizen(id=i)\n",
    "    cit_lst.append(cit)\n",
    "    cit_df=pd.concat([cit_df, cit.to_df()])\n",
    "    \n",
    "# проверяем функцию потребления\n",
    "# житель для теста\n",
    "cit_a=sm.citizen(id=1)\n",
    "cit_a.money=30\n",
    "# выбор самого дешёго продукта равного качества\n",
    "pr_a1=sm.product(id=0, quality=10, price=20)\n",
    "pr_a2=sm.product(id=1, quality=10, price=30)\n",
    "pr_a3=sm.product(id=2, quality=10, price=40)\n",
    "# выбор самого качественного продукта одной цены\n",
    "pr_b1=sm.product(id=3, quality=10, price=20)\n",
    "pr_b2=sm.product(id=4, quality=20, price=20)\n",
    "pr_b3=sm.product(id=5, quality=30, price=20)\n",
    "# выбор оптимального доступного\n",
    "pr_c1=sm.product(id=6, quality=10, price=10)\n",
    "pr_c2=sm.product(id=7, quality=30, price=30)\n",
    "pr_c3=sm.product(id=8, quality=50, price=50)\n",
    "\n",
    "# проверяем создаем завода\n",
    "fact_a_df=sm.factory(id=0).to_df()\n",
    "\n",
    "# проверяем распредление параметров завода\n",
    "n=10\n",
    "fact_lst=[]\n",
    "fact_df=pd.DataFrame()\n",
    "for i in range(n):\n",
    "    f=sm.factory(id=i)\n",
    "    fact_lst.append(f)\n",
    "    fact_df=pd.concat([fact_df, f.to_df()])\n",
    "\n",
    "# проверяем функцию производства\n",
    "# завод для теста\n",
    "fact_ap1=sm.factory(id=1)\n",
    "fact_ap1.max_quality=40\n",
    "fact_ap1.cost=10\n",
    "fact_ap1.capital=300\n",
    "# проверка условия по себестоимости\n",
    "pr1=fact_ap1.produce(202, price=20, quality=30)\n",
    "pr2=fact_ap1.produce(203, price=10, quality=30)\n",
    "pr3=fact_ap1.produce(203, price=9, quality=30)\n",
    "# проверка условия по качеству\n",
    "pr4=fact_ap1.produce(203, price=20, quality=10)\n",
    "pr5=fact_ap1.produce(203, price=20, quality=30)\n",
    "pr6=fact_ap1.produce(203, price=20, quality=50)\n",
    "\n",
    "# проверяем функцию продажи\n",
    "# продаём товар один раз\n",
    "fact_tr1=sm.factory(id=7)\n",
    "fact_tr1.cost=10\n",
    "fact_tr1.max_quality=15\n",
    "fact_tr1.capital=300\n",
    "fact_tr1.produce(product_id=18, price=20, quality=15)\n",
    "fact_tr1.trade()\n",
    "\n",
    "# пытаемся продать товар, когда у нас мало капитала\n",
    "fact_tr2=sm.factory(id=8)\n",
    "fact_tr2.cost=10\n",
    "fact_tr2.max_quality=15\n",
    "fact_tr2.capital=5\n",
    "fact_tr2.produce(product_id=18, price=20, quality=15)\n",
    "fact_tr2.trade()\n",
    "\n",
    "# тестируем функцию логирования\n",
    "ht=sm.factory(id=21)\n",
    "ht.hist()\n",
    "ht.capital=300\n",
    "ht.hist()\n",
    "ht.capital=350\n",
    "ht.hist()\n",
    "\n",
    "# массив заводов, покупки и логирование\n",
    "n=5\n",
    "fact_h_lst=[]\n",
    "for i in range(n):\n",
    "    f=sm.factory(id=i)\n",
    "    f.capital=300\n",
    "    f.cost=10\n",
    "    f.produce(product_id=i, price=11, quality=1)\n",
    "    fact_h_lst.append(f)\n",
    "\n",
    "for i in range(n):    \n",
    "    for j in range(4):\n",
    "        fact_h_lst[i].trade()\n",
    "        fact_h_lst[i].hist()\n",
    "        \n",
    "# проверяем рандом параметров\n",
    "t=sm.factory(id=31)\n",
    "nn=500\n",
    "params_lst=[]\n",
    "for i in range(nn):\n",
    "    pl=t.get_modern_params()\n",
    "    params_lst.append(pl)\n",
    "params_df=pd.DataFrame(params_lst)\n",
    "params_df.columns=['qv_addon', 'cost_addon', 'capital_addon']"
   ]
  },
  {
   "cell_type": "code",
   "execution_count": 6,
   "metadata": {},
   "outputs": [
    {
     "data": {
      "text/html": [
       "<div>\n",
       "<style scoped>\n",
       "    .dataframe tbody tr th:only-of-type {\n",
       "        vertical-align: middle;\n",
       "    }\n",
       "\n",
       "    .dataframe tbody tr th {\n",
       "        vertical-align: top;\n",
       "    }\n",
       "\n",
       "    .dataframe thead th {\n",
       "        text-align: right;\n",
       "    }\n",
       "</style>\n",
       "<table border=\"1\" class=\"dataframe\">\n",
       "  <thead>\n",
       "    <tr style=\"text-align: right;\">\n",
       "      <th></th>\n",
       "      <th>id</th>\n",
       "      <th>quality</th>\n",
       "      <th>price</th>\n",
       "    </tr>\n",
       "  </thead>\n",
       "  <tbody>\n",
       "    <tr>\n",
       "      <th>0</th>\n",
       "      <td>0</td>\n",
       "      <td>-100</td>\n",
       "      <td>-10000</td>\n",
       "    </tr>\n",
       "  </tbody>\n",
       "</table>\n",
       "</div>"
      ],
      "text/plain": [
       "   id  quality  price\n",
       "0   0     -100 -10000"
      ]
     },
     "execution_count": 6,
     "metadata": {},
     "output_type": "execute_result"
    }
   ],
   "source": [
    "pr_a_df #id=0 qv=-100 price=-10000"
   ]
  },
  {
   "cell_type": "code",
   "execution_count": 7,
   "metadata": {},
   "outputs": [
    {
     "data": {
      "text/html": [
       "<div>\n",
       "<style scoped>\n",
       "    .dataframe tbody tr th:only-of-type {\n",
       "        vertical-align: middle;\n",
       "    }\n",
       "\n",
       "    .dataframe tbody tr th {\n",
       "        vertical-align: top;\n",
       "    }\n",
       "\n",
       "    .dataframe thead th {\n",
       "        text-align: right;\n",
       "    }\n",
       "</style>\n",
       "<table border=\"1\" class=\"dataframe\">\n",
       "  <thead>\n",
       "    <tr style=\"text-align: right;\">\n",
       "      <th></th>\n",
       "      <th>id</th>\n",
       "      <th>quality</th>\n",
       "      <th>price</th>\n",
       "    </tr>\n",
       "  </thead>\n",
       "  <tbody>\n",
       "    <tr>\n",
       "      <th>0</th>\n",
       "      <td>1</td>\n",
       "      <td>50</td>\n",
       "      <td>99</td>\n",
       "    </tr>\n",
       "  </tbody>\n",
       "</table>\n",
       "</div>"
      ],
      "text/plain": [
       "   id  quality  price\n",
       "0   1       50     99"
      ]
     },
     "execution_count": 7,
     "metadata": {},
     "output_type": "execute_result"
    }
   ],
   "source": [
    "pr_b_df #id=1 qv=50 price=99"
   ]
  },
  {
   "cell_type": "code",
   "execution_count": 8,
   "metadata": {},
   "outputs": [
    {
     "data": {
      "text/html": [
       "<div>\n",
       "<style scoped>\n",
       "    .dataframe tbody tr th:only-of-type {\n",
       "        vertical-align: middle;\n",
       "    }\n",
       "\n",
       "    .dataframe tbody tr th {\n",
       "        vertical-align: top;\n",
       "    }\n",
       "\n",
       "    .dataframe thead th {\n",
       "        text-align: right;\n",
       "    }\n",
       "</style>\n",
       "<table border=\"1\" class=\"dataframe\">\n",
       "  <thead>\n",
       "    <tr style=\"text-align: right;\">\n",
       "      <th></th>\n",
       "      <th>id</th>\n",
       "      <th>money</th>\n",
       "    </tr>\n",
       "  </thead>\n",
       "  <tbody>\n",
       "    <tr>\n",
       "      <th>0</th>\n",
       "      <td>0</td>\n",
       "      <td>40.01</td>\n",
       "    </tr>\n",
       "  </tbody>\n",
       "</table>\n",
       "</div>"
      ],
      "text/plain": [
       "   id  money\n",
       "0   0  40.01"
      ]
     },
     "execution_count": 8,
     "metadata": {},
     "output_type": "execute_result"
    }
   ],
   "source": [
    "cit_a_df #id=0 money=rand"
   ]
  },
  {
   "cell_type": "code",
   "execution_count": 9,
   "metadata": {},
   "outputs": [
    {
     "data": {
      "text/plain": [
       "<matplotlib.axes._subplots.AxesSubplot at 0x7f890e6ce198>"
      ]
     },
     "execution_count": 9,
     "metadata": {},
     "output_type": "execute_result"
    },
    {
     "data": {
      "image/png": "[encoded data removed]",
      "text/plain": [
       "<Figure size 432x288 with 1 Axes>"
      ]
     },
     "metadata": {
      "needs_background": "light"
     },
     "output_type": "display_data"
    }
   ],
   "source": [
    "cit_df['money'].hist()"
   ]
  },
  {
   "cell_type": "code",
   "execution_count": 10,
   "metadata": {},
   "outputs": [
    {
     "data": {
      "text/html": [
       "<div>\n",
       "<style scoped>\n",
       "    .dataframe tbody tr th:only-of-type {\n",
       "        vertical-align: middle;\n",
       "    }\n",
       "\n",
       "    .dataframe tbody tr th {\n",
       "        vertical-align: top;\n",
       "    }\n",
       "\n",
       "    .dataframe thead th {\n",
       "        text-align: right;\n",
       "    }\n",
       "</style>\n",
       "<table border=\"1\" class=\"dataframe\">\n",
       "  <thead>\n",
       "    <tr style=\"text-align: right;\">\n",
       "      <th></th>\n",
       "      <th>id</th>\n",
       "      <th>quality</th>\n",
       "      <th>price</th>\n",
       "    </tr>\n",
       "  </thead>\n",
       "  <tbody>\n",
       "    <tr>\n",
       "      <th>0</th>\n",
       "      <td>0</td>\n",
       "      <td>10</td>\n",
       "      <td>20</td>\n",
       "    </tr>\n",
       "  </tbody>\n",
       "</table>\n",
       "</div>"
      ],
      "text/plain": [
       "   id  quality  price\n",
       "0   0       10     20"
      ]
     },
     "execution_count": 10,
     "metadata": {},
     "output_type": "execute_result"
    }
   ],
   "source": [
    "cit_a.consume([pr_a1, pr_a2, pr_a3]).to_df()  #id=0"
   ]
  },
  {
   "cell_type": "code",
   "execution_count": 11,
   "metadata": {},
   "outputs": [
    {
     "data": {
      "text/html": [
       "<div>\n",
       "<style scoped>\n",
       "    .dataframe tbody tr th:only-of-type {\n",
       "        vertical-align: middle;\n",
       "    }\n",
       "\n",
       "    .dataframe tbody tr th {\n",
       "        vertical-align: top;\n",
       "    }\n",
       "\n",
       "    .dataframe thead th {\n",
       "        text-align: right;\n",
       "    }\n",
       "</style>\n",
       "<table border=\"1\" class=\"dataframe\">\n",
       "  <thead>\n",
       "    <tr style=\"text-align: right;\">\n",
       "      <th></th>\n",
       "      <th>id</th>\n",
       "      <th>quality</th>\n",
       "      <th>price</th>\n",
       "    </tr>\n",
       "  </thead>\n",
       "  <tbody>\n",
       "    <tr>\n",
       "      <th>0</th>\n",
       "      <td>5</td>\n",
       "      <td>30</td>\n",
       "      <td>20</td>\n",
       "    </tr>\n",
       "  </tbody>\n",
       "</table>\n",
       "</div>"
      ],
      "text/plain": [
       "   id  quality  price\n",
       "0   5       30     20"
      ]
     },
     "execution_count": 11,
     "metadata": {},
     "output_type": "execute_result"
    }
   ],
   "source": [
    "cit_a.consume([pr_b1, pr_b2, pr_b3]).to_df() #id=5"
   ]
  },
  {
   "cell_type": "code",
   "execution_count": 12,
   "metadata": {},
   "outputs": [
    {
     "data": {
      "text/html": [
       "<div>\n",
       "<style scoped>\n",
       "    .dataframe tbody tr th:only-of-type {\n",
       "        vertical-align: middle;\n",
       "    }\n",
       "\n",
       "    .dataframe tbody tr th {\n",
       "        vertical-align: top;\n",
       "    }\n",
       "\n",
       "    .dataframe thead th {\n",
       "        text-align: right;\n",
       "    }\n",
       "</style>\n",
       "<table border=\"1\" class=\"dataframe\">\n",
       "  <thead>\n",
       "    <tr style=\"text-align: right;\">\n",
       "      <th></th>\n",
       "      <th>id</th>\n",
       "      <th>quality</th>\n",
       "      <th>price</th>\n",
       "    </tr>\n",
       "  </thead>\n",
       "  <tbody>\n",
       "    <tr>\n",
       "      <th>0</th>\n",
       "      <td>7</td>\n",
       "      <td>30</td>\n",
       "      <td>30</td>\n",
       "    </tr>\n",
       "  </tbody>\n",
       "</table>\n",
       "</div>"
      ],
      "text/plain": [
       "   id  quality  price\n",
       "0   7       30     30"
      ]
     },
     "execution_count": 12,
     "metadata": {},
     "output_type": "execute_result"
    }
   ],
   "source": [
    "cit_a.consume([pr_c1, pr_c2, pr_c3]).to_df() #id=7"
   ]
  },
  {
   "cell_type": "code",
   "execution_count": 13,
   "metadata": {},
   "outputs": [
    {
     "data": {
      "text/html": [
       "<div>\n",
       "<style scoped>\n",
       "    .dataframe tbody tr th:only-of-type {\n",
       "        vertical-align: middle;\n",
       "    }\n",
       "\n",
       "    .dataframe tbody tr th {\n",
       "        vertical-align: top;\n",
       "    }\n",
       "\n",
       "    .dataframe thead th {\n",
       "        text-align: right;\n",
       "    }\n",
       "</style>\n",
       "<table border=\"1\" class=\"dataframe\">\n",
       "  <thead>\n",
       "    <tr style=\"text-align: right;\">\n",
       "      <th></th>\n",
       "      <th>id</th>\n",
       "      <th>max_quality</th>\n",
       "      <th>cost</th>\n",
       "      <th>capital</th>\n",
       "      <th>pur</th>\n",
       "      <th>price</th>\n",
       "      <th>capital_history</th>\n",
       "      <th>cost_history</th>\n",
       "      <th>quality_history</th>\n",
       "      <th>pur_history</th>\n",
       "      <th>price_history</th>\n",
       "    </tr>\n",
       "  </thead>\n",
       "  <tbody>\n",
       "    <tr>\n",
       "      <th>0</th>\n",
       "      <td>0</td>\n",
       "      <td>23</td>\n",
       "      <td>41</td>\n",
       "      <td>1306.14</td>\n",
       "      <td>0</td>\n",
       "      <td>0</td>\n",
       "      <td>[]</td>\n",
       "      <td>[]</td>\n",
       "      <td>[]</td>\n",
       "      <td>[]</td>\n",
       "      <td>[]</td>\n",
       "    </tr>\n",
       "  </tbody>\n",
       "</table>\n",
       "</div>"
      ],
      "text/plain": [
       "   id  max_quality  cost  capital  pur  price capital_history cost_history  \\\n",
       "0   0           23    41  1306.14    0      0              []           []   \n",
       "\n",
       "  quality_history pur_history price_history  \n",
       "0              []          []            []  "
      ]
     },
     "execution_count": 13,
     "metadata": {},
     "output_type": "execute_result"
    }
   ],
   "source": [
    "fact_a_df #id=0, all rand or empty"
   ]
  },
  {
   "cell_type": "code",
   "execution_count": 14,
   "metadata": {},
   "outputs": [
    {
     "data": {
      "text/plain": [
       "array([[<matplotlib.axes._subplots.AxesSubplot object at 0x7f890e3d7550>,\n",
       "        <matplotlib.axes._subplots.AxesSubplot object at 0x7f890e344438>],\n",
       "       [<matplotlib.axes._subplots.AxesSubplot object at 0x7f890e2f29e8>,\n",
       "        <matplotlib.axes._subplots.AxesSubplot object at 0x7f890e320f60>]],\n",
       "      dtype=object)"
      ]
     },
     "execution_count": 14,
     "metadata": {},
     "output_type": "execute_result"
    },
    {
     "data": {
      "image/png": "[encoded data removed]",
      "text/plain": [
       "<Figure size 432x288 with 4 Axes>"
      ]
     },
     "metadata": {
      "needs_background": "light"
     },
     "output_type": "display_data"
    }
   ],
   "source": [
    "fact_df[['max_quality', 'cost', 'capital']].hist()"
   ]
  },
  {
   "cell_type": "code",
   "execution_count": 15,
   "metadata": {},
   "outputs": [
    {
     "data": {
      "text/html": [
       "<div>\n",
       "<style scoped>\n",
       "    .dataframe tbody tr th:only-of-type {\n",
       "        vertical-align: middle;\n",
       "    }\n",
       "\n",
       "    .dataframe tbody tr th {\n",
       "        vertical-align: top;\n",
       "    }\n",
       "\n",
       "    .dataframe thead th {\n",
       "        text-align: right;\n",
       "    }\n",
       "</style>\n",
       "<table border=\"1\" class=\"dataframe\">\n",
       "  <thead>\n",
       "    <tr style=\"text-align: right;\">\n",
       "      <th></th>\n",
       "      <th>id</th>\n",
       "      <th>quality</th>\n",
       "      <th>price</th>\n",
       "    </tr>\n",
       "  </thead>\n",
       "  <tbody>\n",
       "    <tr>\n",
       "      <th>0</th>\n",
       "      <td>202</td>\n",
       "      <td>30</td>\n",
       "      <td>20</td>\n",
       "    </tr>\n",
       "  </tbody>\n",
       "</table>\n",
       "</div>"
      ],
      "text/plain": [
       "    id  quality  price\n",
       "0  202       30     20"
      ]
     },
     "execution_count": 15,
     "metadata": {},
     "output_type": "execute_result"
    }
   ],
   "source": [
    "pr1.to_df() #id>0"
   ]
  },
  {
   "cell_type": "code",
   "execution_count": 16,
   "metadata": {},
   "outputs": [
    {
     "data": {
      "text/html": [
       "<div>\n",
       "<style scoped>\n",
       "    .dataframe tbody tr th:only-of-type {\n",
       "        vertical-align: middle;\n",
       "    }\n",
       "\n",
       "    .dataframe tbody tr th {\n",
       "        vertical-align: top;\n",
       "    }\n",
       "\n",
       "    .dataframe thead th {\n",
       "        text-align: right;\n",
       "    }\n",
       "</style>\n",
       "<table border=\"1\" class=\"dataframe\">\n",
       "  <thead>\n",
       "    <tr style=\"text-align: right;\">\n",
       "      <th></th>\n",
       "      <th>id</th>\n",
       "      <th>quality</th>\n",
       "      <th>price</th>\n",
       "    </tr>\n",
       "  </thead>\n",
       "  <tbody>\n",
       "    <tr>\n",
       "      <th>0</th>\n",
       "      <td>-1</td>\n",
       "      <td>-100</td>\n",
       "      <td>-10000</td>\n",
       "    </tr>\n",
       "  </tbody>\n",
       "</table>\n",
       "</div>"
      ],
      "text/plain": [
       "   id  quality  price\n",
       "0  -1     -100 -10000"
      ]
     },
     "execution_count": 16,
     "metadata": {},
     "output_type": "execute_result"
    }
   ],
   "source": [
    "pr2.to_df() #id<0"
   ]
  },
  {
   "cell_type": "code",
   "execution_count": 17,
   "metadata": {},
   "outputs": [
    {
     "data": {
      "text/html": [
       "<div>\n",
       "<style scoped>\n",
       "    .dataframe tbody tr th:only-of-type {\n",
       "        vertical-align: middle;\n",
       "    }\n",
       "\n",
       "    .dataframe tbody tr th {\n",
       "        vertical-align: top;\n",
       "    }\n",
       "\n",
       "    .dataframe thead th {\n",
       "        text-align: right;\n",
       "    }\n",
       "</style>\n",
       "<table border=\"1\" class=\"dataframe\">\n",
       "  <thead>\n",
       "    <tr style=\"text-align: right;\">\n",
       "      <th></th>\n",
       "      <th>id</th>\n",
       "      <th>quality</th>\n",
       "      <th>price</th>\n",
       "    </tr>\n",
       "  </thead>\n",
       "  <tbody>\n",
       "    <tr>\n",
       "      <th>0</th>\n",
       "      <td>-1</td>\n",
       "      <td>-100</td>\n",
       "      <td>-10000</td>\n",
       "    </tr>\n",
       "  </tbody>\n",
       "</table>\n",
       "</div>"
      ],
      "text/plain": [
       "   id  quality  price\n",
       "0  -1     -100 -10000"
      ]
     },
     "execution_count": 17,
     "metadata": {},
     "output_type": "execute_result"
    }
   ],
   "source": [
    "pr3.to_df() #id<0"
   ]
  },
  {
   "cell_type": "code",
   "execution_count": 18,
   "metadata": {},
   "outputs": [
    {
     "data": {
      "text/html": [
       "<div>\n",
       "<style scoped>\n",
       "    .dataframe tbody tr th:only-of-type {\n",
       "        vertical-align: middle;\n",
       "    }\n",
       "\n",
       "    .dataframe tbody tr th {\n",
       "        vertical-align: top;\n",
       "    }\n",
       "\n",
       "    .dataframe thead th {\n",
       "        text-align: right;\n",
       "    }\n",
       "</style>\n",
       "<table border=\"1\" class=\"dataframe\">\n",
       "  <thead>\n",
       "    <tr style=\"text-align: right;\">\n",
       "      <th></th>\n",
       "      <th>id</th>\n",
       "      <th>quality</th>\n",
       "      <th>price</th>\n",
       "    </tr>\n",
       "  </thead>\n",
       "  <tbody>\n",
       "    <tr>\n",
       "      <th>0</th>\n",
       "      <td>203</td>\n",
       "      <td>10</td>\n",
       "      <td>20</td>\n",
       "    </tr>\n",
       "  </tbody>\n",
       "</table>\n",
       "</div>"
      ],
      "text/plain": [
       "    id  quality  price\n",
       "0  203       10     20"
      ]
     },
     "execution_count": 18,
     "metadata": {},
     "output_type": "execute_result"
    }
   ],
   "source": [
    "pr4.to_df() #id>0"
   ]
  },
  {
   "cell_type": "code",
   "execution_count": 19,
   "metadata": {},
   "outputs": [
    {
     "data": {
      "text/html": [
       "<div>\n",
       "<style scoped>\n",
       "    .dataframe tbody tr th:only-of-type {\n",
       "        vertical-align: middle;\n",
       "    }\n",
       "\n",
       "    .dataframe tbody tr th {\n",
       "        vertical-align: top;\n",
       "    }\n",
       "\n",
       "    .dataframe thead th {\n",
       "        text-align: right;\n",
       "    }\n",
       "</style>\n",
       "<table border=\"1\" class=\"dataframe\">\n",
       "  <thead>\n",
       "    <tr style=\"text-align: right;\">\n",
       "      <th></th>\n",
       "      <th>id</th>\n",
       "      <th>quality</th>\n",
       "      <th>price</th>\n",
       "    </tr>\n",
       "  </thead>\n",
       "  <tbody>\n",
       "    <tr>\n",
       "      <th>0</th>\n",
       "      <td>203</td>\n",
       "      <td>30</td>\n",
       "      <td>20</td>\n",
       "    </tr>\n",
       "  </tbody>\n",
       "</table>\n",
       "</div>"
      ],
      "text/plain": [
       "    id  quality  price\n",
       "0  203       30     20"
      ]
     },
     "execution_count": 19,
     "metadata": {},
     "output_type": "execute_result"
    }
   ],
   "source": [
    "pr5.to_df() #id>0"
   ]
  },
  {
   "cell_type": "code",
   "execution_count": 20,
   "metadata": {},
   "outputs": [
    {
     "data": {
      "text/html": [
       "<div>\n",
       "<style scoped>\n",
       "    .dataframe tbody tr th:only-of-type {\n",
       "        vertical-align: middle;\n",
       "    }\n",
       "\n",
       "    .dataframe tbody tr th {\n",
       "        vertical-align: top;\n",
       "    }\n",
       "\n",
       "    .dataframe thead th {\n",
       "        text-align: right;\n",
       "    }\n",
       "</style>\n",
       "<table border=\"1\" class=\"dataframe\">\n",
       "  <thead>\n",
       "    <tr style=\"text-align: right;\">\n",
       "      <th></th>\n",
       "      <th>id</th>\n",
       "      <th>quality</th>\n",
       "      <th>price</th>\n",
       "    </tr>\n",
       "  </thead>\n",
       "  <tbody>\n",
       "    <tr>\n",
       "      <th>0</th>\n",
       "      <td>-1</td>\n",
       "      <td>-100</td>\n",
       "      <td>-10000</td>\n",
       "    </tr>\n",
       "  </tbody>\n",
       "</table>\n",
       "</div>"
      ],
      "text/plain": [
       "   id  quality  price\n",
       "0  -1     -100 -10000"
      ]
     },
     "execution_count": 20,
     "metadata": {},
     "output_type": "execute_result"
    }
   ],
   "source": [
    "pr6.to_df() #id<0"
   ]
  },
  {
   "cell_type": "code",
   "execution_count": 21,
   "metadata": {},
   "outputs": [
    {
     "data": {
      "text/html": [
       "<div>\n",
       "<style scoped>\n",
       "    .dataframe tbody tr th:only-of-type {\n",
       "        vertical-align: middle;\n",
       "    }\n",
       "\n",
       "    .dataframe tbody tr th {\n",
       "        vertical-align: top;\n",
       "    }\n",
       "\n",
       "    .dataframe thead th {\n",
       "        text-align: right;\n",
       "    }\n",
       "</style>\n",
       "<table border=\"1\" class=\"dataframe\">\n",
       "  <thead>\n",
       "    <tr style=\"text-align: right;\">\n",
       "      <th></th>\n",
       "      <th>id</th>\n",
       "      <th>max_quality</th>\n",
       "      <th>cost</th>\n",
       "      <th>capital</th>\n",
       "      <th>pur</th>\n",
       "      <th>price</th>\n",
       "      <th>capital_history</th>\n",
       "      <th>cost_history</th>\n",
       "      <th>quality_history</th>\n",
       "      <th>pur_history</th>\n",
       "      <th>price_history</th>\n",
       "    </tr>\n",
       "  </thead>\n",
       "  <tbody>\n",
       "    <tr>\n",
       "      <th>0</th>\n",
       "      <td>7</td>\n",
       "      <td>15</td>\n",
       "      <td>10</td>\n",
       "      <td>310</td>\n",
       "      <td>1</td>\n",
       "      <td>20</td>\n",
       "      <td>[]</td>\n",
       "      <td>[]</td>\n",
       "      <td>[]</td>\n",
       "      <td>[]</td>\n",
       "      <td>[]</td>\n",
       "    </tr>\n",
       "  </tbody>\n",
       "</table>\n",
       "</div>"
      ],
      "text/plain": [
       "   id  max_quality  cost  capital  pur  price capital_history cost_history  \\\n",
       "0   7           15    10      310    1     20              []           []   \n",
       "\n",
       "  quality_history pur_history price_history  \n",
       "0              []          []            []  "
      ]
     },
     "execution_count": 21,
     "metadata": {},
     "output_type": "execute_result"
    }
   ],
   "source": [
    "fact_tr1.to_df()  #capital=310 pur=1"
   ]
  },
  {
   "cell_type": "code",
   "execution_count": 22,
   "metadata": {},
   "outputs": [
    {
     "data": {
      "text/html": [
       "<div>\n",
       "<style scoped>\n",
       "    .dataframe tbody tr th:only-of-type {\n",
       "        vertical-align: middle;\n",
       "    }\n",
       "\n",
       "    .dataframe tbody tr th {\n",
       "        vertical-align: top;\n",
       "    }\n",
       "\n",
       "    .dataframe thead th {\n",
       "        text-align: right;\n",
       "    }\n",
       "</style>\n",
       "<table border=\"1\" class=\"dataframe\">\n",
       "  <thead>\n",
       "    <tr style=\"text-align: right;\">\n",
       "      <th></th>\n",
       "      <th>id</th>\n",
       "      <th>max_quality</th>\n",
       "      <th>cost</th>\n",
       "      <th>capital</th>\n",
       "      <th>pur</th>\n",
       "      <th>price</th>\n",
       "      <th>capital_history</th>\n",
       "      <th>cost_history</th>\n",
       "      <th>quality_history</th>\n",
       "      <th>pur_history</th>\n",
       "      <th>price_history</th>\n",
       "    </tr>\n",
       "  </thead>\n",
       "  <tbody>\n",
       "    <tr>\n",
       "      <th>0</th>\n",
       "      <td>8</td>\n",
       "      <td>15</td>\n",
       "      <td>10</td>\n",
       "      <td>-5</td>\n",
       "      <td>0</td>\n",
       "      <td>20</td>\n",
       "      <td>[]</td>\n",
       "      <td>[]</td>\n",
       "      <td>[]</td>\n",
       "      <td>[]</td>\n",
       "      <td>[]</td>\n",
       "    </tr>\n",
       "  </tbody>\n",
       "</table>\n",
       "</div>"
      ],
      "text/plain": [
       "   id  max_quality  cost  capital  pur  price capital_history cost_history  \\\n",
       "0   8           15    10       -5    0     20              []           []   \n",
       "\n",
       "  quality_history pur_history price_history  \n",
       "0              []          []            []  "
      ]
     },
     "execution_count": 22,
     "metadata": {},
     "output_type": "execute_result"
    }
   ],
   "source": [
    "fact_tr2.to_df()  #capital=-5 pur=0"
   ]
  },
  {
   "cell_type": "code",
   "execution_count": 23,
   "metadata": {},
   "outputs": [
    {
     "data": {
      "text/html": [
       "<div>\n",
       "<style scoped>\n",
       "    .dataframe tbody tr th:only-of-type {\n",
       "        vertical-align: middle;\n",
       "    }\n",
       "\n",
       "    .dataframe tbody tr th {\n",
       "        vertical-align: top;\n",
       "    }\n",
       "\n",
       "    .dataframe thead th {\n",
       "        text-align: right;\n",
       "    }\n",
       "</style>\n",
       "<table border=\"1\" class=\"dataframe\">\n",
       "  <thead>\n",
       "    <tr style=\"text-align: right;\">\n",
       "      <th></th>\n",
       "      <th>id</th>\n",
       "      <th>max_quality</th>\n",
       "      <th>cost</th>\n",
       "      <th>capital</th>\n",
       "      <th>pur</th>\n",
       "      <th>price</th>\n",
       "      <th>capital_history</th>\n",
       "      <th>cost_history</th>\n",
       "      <th>quality_history</th>\n",
       "      <th>pur_history</th>\n",
       "      <th>price_history</th>\n",
       "    </tr>\n",
       "  </thead>\n",
       "  <tbody>\n",
       "    <tr>\n",
       "      <th>0</th>\n",
       "      <td>21</td>\n",
       "      <td>10</td>\n",
       "      <td>30</td>\n",
       "      <td>350</td>\n",
       "      <td>0</td>\n",
       "      <td>0</td>\n",
       "      <td>[1003.42, 300, 350]</td>\n",
       "      <td>[30, 30, 30]</td>\n",
       "      <td>[10, 10, 10]</td>\n",
       "      <td>[0, 0, 0]</td>\n",
       "      <td>[0, 0, 0]</td>\n",
       "    </tr>\n",
       "  </tbody>\n",
       "</table>\n",
       "</div>"
      ],
      "text/plain": [
       "   id  max_quality  cost  capital  pur  price      capital_history  \\\n",
       "0  21           10    30      350    0      0  [1003.42, 300, 350]   \n",
       "\n",
       "   cost_history quality_history pur_history price_history  \n",
       "0  [30, 30, 30]    [10, 10, 10]   [0, 0, 0]     [0, 0, 0]  "
      ]
     },
     "execution_count": 23,
     "metadata": {},
     "output_type": "execute_result"
    }
   ],
   "source": [
    "ht.to_df() # capital_hist=[rand, 300, 350]"
   ]
  },
  {
   "cell_type": "code",
   "execution_count": 24,
   "metadata": {},
   "outputs": [
    {
     "data": {
      "text/html": [
       "<div>\n",
       "<style scoped>\n",
       "    .dataframe tbody tr th:only-of-type {\n",
       "        vertical-align: middle;\n",
       "    }\n",
       "\n",
       "    .dataframe tbody tr th {\n",
       "        vertical-align: top;\n",
       "    }\n",
       "\n",
       "    .dataframe thead th {\n",
       "        text-align: right;\n",
       "    }\n",
       "</style>\n",
       "<table border=\"1\" class=\"dataframe\">\n",
       "  <thead>\n",
       "    <tr style=\"text-align: right;\">\n",
       "      <th></th>\n",
       "      <th>id</th>\n",
       "      <th>max_quality</th>\n",
       "      <th>cost</th>\n",
       "      <th>capital</th>\n",
       "      <th>pur</th>\n",
       "      <th>price</th>\n",
       "      <th>capital_history</th>\n",
       "      <th>cost_history</th>\n",
       "      <th>quality_history</th>\n",
       "      <th>pur_history</th>\n",
       "      <th>price_history</th>\n",
       "    </tr>\n",
       "  </thead>\n",
       "  <tbody>\n",
       "    <tr>\n",
       "      <th>0</th>\n",
       "      <td>2</td>\n",
       "      <td>4</td>\n",
       "      <td>10</td>\n",
       "      <td>304</td>\n",
       "      <td>4</td>\n",
       "      <td>11</td>\n",
       "      <td>[301, 302, 303, 304]</td>\n",
       "      <td>[10, 10, 10, 10]</td>\n",
       "      <td>[4, 4, 4, 4]</td>\n",
       "      <td>[1, 2, 3, 4]</td>\n",
       "      <td>[11, 11, 11, 11]</td>\n",
       "    </tr>\n",
       "  </tbody>\n",
       "</table>\n",
       "</div>"
      ],
      "text/plain": [
       "   id  max_quality  cost  capital  pur  price       capital_history  \\\n",
       "0   2            4    10      304    4     11  [301, 302, 303, 304]   \n",
       "\n",
       "       cost_history quality_history   pur_history     price_history  \n",
       "0  [10, 10, 10, 10]    [4, 4, 4, 4]  [1, 2, 3, 4]  [11, 11, 11, 11]  "
      ]
     },
     "execution_count": 24,
     "metadata": {},
     "output_type": "execute_result"
    }
   ],
   "source": [
    "fact_h_lst[2].to_df()  #capital_history=[301, 302, 303, 304] pur=4"
   ]
  },
  {
   "cell_type": "code",
   "execution_count": 25,
   "metadata": {},
   "outputs": [
    {
     "data": {
      "text/plain": [
       "array([[<matplotlib.axes._subplots.AxesSubplot object at 0x7f890e23c1d0>,\n",
       "        <matplotlib.axes._subplots.AxesSubplot object at 0x7f890e1c22e8>],\n",
       "       [<matplotlib.axes._subplots.AxesSubplot object at 0x7f890e16f438>,\n",
       "        <matplotlib.axes._subplots.AxesSubplot object at 0x7f890e19f588>]],\n",
       "      dtype=object)"
      ]
     },
     "execution_count": 25,
     "metadata": {},
     "output_type": "execute_result"
    },
    {
     "data": {
      "image/png": "[encoded data removed]",
      "text/plain": [
       "<Figure size 432x288 with 4 Axes>"
      ]
     },
     "metadata": {
      "needs_background": "light"
     },
     "output_type": "display_data"
    }
   ],
   "source": [
    "params_df.hist()"
   ]
  },
  {
   "cell_type": "code",
   "execution_count": 26,
   "metadata": {},
   "outputs": [
    {
     "data": {
      "text/plain": [
       "0.0"
      ]
     },
     "execution_count": 26,
     "metadata": {},
     "output_type": "execute_result"
    }
   ],
   "source": [
    "len(params_df[params_df['capital_addon']>0])/len(params_df)  # 0"
   ]
  },
  {
   "cell_type": "code",
   "execution_count": 27,
   "metadata": {},
   "outputs": [],
   "source": [
    "# 1. продажи были - модернизировались, продажи пропали, далее как пойдёт\n",
    "fact_tr31=sm.factory(id=31)\n",
    "fact_tr31.cost=10\n",
    "fact_tr31.max_quality=15\n",
    "fact_tr31.capital=300\n",
    "fact_tr31.produce(product_id=31, price=11, quality=15)\n",
    "\n",
    "\n",
    "fact_tr31.trade()\n",
    "fact_tr31.hist()\n",
    "fact_tr31.to_null()\n",
    "\n",
    "fact_tr31.modernise()\n",
    "fact_tr31.produce(product_id=31, price=fact_tr31.cost+1, quality=fact_tr31.max_quality)\n",
    "# fact_tr31.trade()\n",
    "fact_tr31.hist()\n",
    "fact_tr31.to_null()\n",
    "\n",
    "fact_tr31.modernise()\n",
    "fact_tr31.produce(product_id=31, price=fact_tr31.cost+1, quality=fact_tr31.max_quality)\n",
    "# fact_tr31.trade()\n",
    "fact_tr31.hist()\n",
    "fact_tr31.to_null()\n",
    "\n",
    "# 2. продажи были - модернизировались, продажи остались, далее как пойдёт\n",
    "fact_tr32=sm.factory(id=32)\n",
    "fact_tr32.cost=10\n",
    "fact_tr32.max_quality=15\n",
    "fact_tr32.capital=300\n",
    "fact_tr32.produce(product_id=32, price=11, quality=15)\n",
    "\n",
    "\n",
    "fact_tr32.trade()\n",
    "fact_tr32.hist()\n",
    "fact_tr32.to_null()\n",
    "\n",
    "fact_tr32.modernise()\n",
    "fact_tr32.produce(product_id=32, price=fact_tr32.cost+1, quality=fact_tr32.max_quality)\n",
    "fact_tr32.trade()\n",
    "fact_tr32.hist()\n",
    "fact_tr32.to_null()\n",
    "\n",
    "fact_tr32.modernise()\n",
    "fact_tr32.produce(product_id=32, price=fact_tr32.cost+1, quality=fact_tr32.max_quality)\n",
    "fact_tr32.trade()\n",
    "fact_tr32.hist()\n",
    "fact_tr32.to_null()\n",
    "\n",
    "\n",
    "# 3. продажи не было - модернизировались, продажи появились, далее как пойдёт\n",
    "fact_tr33=sm.factory(id=33)\n",
    "fact_tr33.cost=10\n",
    "fact_tr33.max_quality=15\n",
    "fact_tr33.capital=300\n",
    "fact_tr33.produce(product_id=33, price=11, quality=15)\n",
    "\n",
    "\n",
    "# fact_tr33.trade()\n",
    "fact_tr33.hist()\n",
    "fact_tr33.to_null()\n",
    "\n",
    "fact_tr33.modernise()\n",
    "fact_tr33.produce(product_id=33, price=fact_tr33.cost+1, quality=fact_tr33.max_quality)\n",
    "fact_tr33.trade()\n",
    "fact_tr33.hist()\n",
    "fact_tr33.to_null()\n",
    "\n",
    "fact_tr33.modernise()\n",
    "fact_tr33.produce(product_id=33, price=fact_tr33.cost+1, quality=fact_tr33.max_quality)\n",
    "fact_tr33.trade()\n",
    "fact_tr33.hist()\n",
    "fact_tr33.to_null()\n",
    "\n",
    "# 4. продажи не было - модернизировались, продажи не появились, далее как пойдёт\n",
    "fact_tr34=sm.factory(id=34)\n",
    "fact_tr34.cost=10\n",
    "fact_tr34.max_quality=15\n",
    "fact_tr34.capital=300\n",
    "fact_tr34.produce(product_id=34, price=11, quality=15)\n",
    "\n",
    "\n",
    "# fact_tr34.trade()\n",
    "fact_tr34.hist()\n",
    "fact_tr34.to_null()\n",
    "\n",
    "fact_tr34.modernise()\n",
    "fact_tr34.produce(product_id=34, price=fact_tr34.cost+1, quality=fact_tr34.max_quality)\n",
    "# fact_tr34.trade()\n",
    "fact_tr34.hist()\n",
    "fact_tr34.to_null()\n",
    "\n",
    "fact_tr34.modernise()\n",
    "fact_tr34.produce(product_id=34, price=fact_tr34.cost+1, quality=fact_tr34.max_quality)\n",
    "# fact_tr34.trade()\n",
    "fact_tr34.hist()\n",
    "fact_tr34.to_null()\n",
    "\n",
    "\n",
    "df_fact_df_pull=pd.DataFrame()\n",
    "df_fact_df_pull=pd.concat([fact_tr31.to_df(), fact_tr32.to_df(), fact_tr33.to_df(), fact_tr34.to_df()])\n"
   ]
  },
  {
   "cell_type": "code",
   "execution_count": 28,
   "metadata": {},
   "outputs": [
    {
     "data": {
      "text/html": [
       "<div>\n",
       "<style scoped>\n",
       "    .dataframe tbody tr th:only-of-type {\n",
       "        vertical-align: middle;\n",
       "    }\n",
       "\n",
       "    .dataframe tbody tr th {\n",
       "        vertical-align: top;\n",
       "    }\n",
       "\n",
       "    .dataframe thead th {\n",
       "        text-align: right;\n",
       "    }\n",
       "</style>\n",
       "<table border=\"1\" class=\"dataframe\">\n",
       "  <thead>\n",
       "    <tr style=\"text-align: right;\">\n",
       "      <th></th>\n",
       "      <th>id</th>\n",
       "      <th>max_quality</th>\n",
       "      <th>cost</th>\n",
       "      <th>capital</th>\n",
       "      <th>pur</th>\n",
       "      <th>price</th>\n",
       "      <th>capital_history</th>\n",
       "      <th>cost_history</th>\n",
       "      <th>quality_history</th>\n",
       "      <th>pur_history</th>\n",
       "      <th>price_history</th>\n",
       "    </tr>\n",
       "  </thead>\n",
       "  <tbody>\n",
       "    <tr>\n",
       "      <th>0</th>\n",
       "      <td>31</td>\n",
       "      <td>15.0</td>\n",
       "      <td>10.00</td>\n",
       "      <td>180.34</td>\n",
       "      <td>0</td>\n",
       "      <td>0</td>\n",
       "      <td>[301, 180.34, 180.34]</td>\n",
       "      <td>[10, 7.99, 10]</td>\n",
       "      <td>[15, 13.0, 15]</td>\n",
       "      <td>[1, 0, 0]</td>\n",
       "      <td>[11, 8.99, 11]</td>\n",
       "    </tr>\n",
       "    <tr>\n",
       "      <th>0</th>\n",
       "      <td>32</td>\n",
       "      <td>17.0</td>\n",
       "      <td>10.01</td>\n",
       "      <td>38.60</td>\n",
       "      <td>0</td>\n",
       "      <td>0</td>\n",
       "      <td>[301, 138.28, 38.6]</td>\n",
       "      <td>[10, 8.92, 10.01]</td>\n",
       "      <td>[15, 16.0, 17.0]</td>\n",
       "      <td>[1, 1, 1]</td>\n",
       "      <td>[11, 9.92, 11.01]</td>\n",
       "    </tr>\n",
       "    <tr>\n",
       "      <th>0</th>\n",
       "      <td>33</td>\n",
       "      <td>15.0</td>\n",
       "      <td>5.50</td>\n",
       "      <td>156.38</td>\n",
       "      <td>0</td>\n",
       "      <td>0</td>\n",
       "      <td>[300, 252.79, 156.38]</td>\n",
       "      <td>[10, 11.5, 5.5]</td>\n",
       "      <td>[15, 14.0, 15.0]</td>\n",
       "      <td>[0, 1, 1]</td>\n",
       "      <td>[11, 12.5, 6.5]</td>\n",
       "    </tr>\n",
       "    <tr>\n",
       "      <th>0</th>\n",
       "      <td>34</td>\n",
       "      <td>15.0</td>\n",
       "      <td>19.58</td>\n",
       "      <td>78.65</td>\n",
       "      <td>0</td>\n",
       "      <td>0</td>\n",
       "      <td>[300, 205.6, 78.65]</td>\n",
       "      <td>[10, 18.23, 19.58]</td>\n",
       "      <td>[15, 16.0, 15.0]</td>\n",
       "      <td>[0, 0, 0]</td>\n",
       "      <td>[11, 19.23, 20.58]</td>\n",
       "    </tr>\n",
       "  </tbody>\n",
       "</table>\n",
       "</div>"
      ],
      "text/plain": [
       "   id  max_quality   cost  capital  pur  price        capital_history  \\\n",
       "0  31         15.0  10.00   180.34    0      0  [301, 180.34, 180.34]   \n",
       "0  32         17.0  10.01    38.60    0      0    [301, 138.28, 38.6]   \n",
       "0  33         15.0   5.50   156.38    0      0  [300, 252.79, 156.38]   \n",
       "0  34         15.0  19.58    78.65    0      0    [300, 205.6, 78.65]   \n",
       "\n",
       "         cost_history   quality_history pur_history       price_history  \n",
       "0      [10, 7.99, 10]    [15, 13.0, 15]   [1, 0, 0]      [11, 8.99, 11]  \n",
       "0   [10, 8.92, 10.01]  [15, 16.0, 17.0]   [1, 1, 1]   [11, 9.92, 11.01]  \n",
       "0     [10, 11.5, 5.5]  [15, 14.0, 15.0]   [0, 1, 1]     [11, 12.5, 6.5]  \n",
       "0  [10, 18.23, 19.58]  [15, 16.0, 15.0]   [0, 0, 0]  [11, 19.23, 20.58]  "
      ]
     },
     "execution_count": 28,
     "metadata": {},
     "output_type": "execute_result"
    }
   ],
   "source": [
    "df_fact_df_pull"
   ]
  },
  {
   "cell_type": "code",
   "execution_count": 29,
   "metadata": {},
   "outputs": [],
   "source": [
    "# Большой тест всего функционала\n",
    "# генерация жителей\n",
    "N=10\n",
    "cit_lst=[]\n",
    "for i in range(N):\n",
    "    cit=sm.citizen(id=i)\n",
    "    cit.money=10+10*i\n",
    "    cit_lst.append(cit)\n",
    "    \n",
    "# генерация трёх заводов\n",
    "fact_lst=[]\n",
    "fact=sm.factory(id=0)\n",
    "fact.max_quality=10\n",
    "fact.cost=10\n",
    "fact_lst.append(fact)\n",
    "\n",
    "fact=sm.factory(id=1)\n",
    "fact.max_quality=20\n",
    "fact.cost=20\n",
    "fact_lst.append(fact)\n",
    "\n",
    "fact=sm.factory(id=2)\n",
    "fact.max_quality=50\n",
    "fact.cost=50\n",
    "fact_lst.append(fact)"
   ]
  },
  {
   "cell_type": "code",
   "execution_count": 30,
   "metadata": {},
   "outputs": [
    {
     "name": "stdout",
     "output_type": "stream",
     "text": [
      "Modelling started\n",
      "2020-01-04 19:11:24.863782 : round  0  started\n",
      "2020-01-04 19:11:24.992037 : round  1  started\n",
      "2020-01-04 19:11:25.145450 : round  2  started\n",
      "2020-01-04 19:11:25.317088  :modelling finished\n"
     ]
    }
   ],
   "source": [
    "cit_df=pd.DataFrame()\n",
    "fact_df=pd.DataFrame()\n",
    "cit_df, fact_df=sm.model(cit_lst, fact_lst, 3)"
   ]
  },
  {
   "cell_type": "code",
   "execution_count": 31,
   "metadata": {},
   "outputs": [
    {
     "data": {
      "text/html": [
       "<div>\n",
       "<style scoped>\n",
       "    .dataframe tbody tr th:only-of-type {\n",
       "        vertical-align: middle;\n",
       "    }\n",
       "\n",
       "    .dataframe tbody tr th {\n",
       "        vertical-align: top;\n",
       "    }\n",
       "\n",
       "    .dataframe thead th {\n",
       "        text-align: right;\n",
       "    }\n",
       "</style>\n",
       "<table border=\"1\" class=\"dataframe\">\n",
       "  <thead>\n",
       "    <tr style=\"text-align: right;\">\n",
       "      <th></th>\n",
       "      <th>id</th>\n",
       "      <th>quality</th>\n",
       "      <th>price</th>\n",
       "      <th>citizen_id</th>\n",
       "      <th>money</th>\n",
       "      <th>period</th>\n",
       "    </tr>\n",
       "  </thead>\n",
       "  <tbody>\n",
       "    <tr>\n",
       "      <th>0</th>\n",
       "      <td>-1</td>\n",
       "      <td>-100.0</td>\n",
       "      <td>-10000.0</td>\n",
       "      <td>0</td>\n",
       "      <td>10</td>\n",
       "      <td>0</td>\n",
       "    </tr>\n",
       "    <tr>\n",
       "      <th>0</th>\n",
       "      <td>0</td>\n",
       "      <td>10.0</td>\n",
       "      <td>11.0</td>\n",
       "      <td>1</td>\n",
       "      <td>20</td>\n",
       "      <td>0</td>\n",
       "    </tr>\n",
       "    <tr>\n",
       "      <th>0</th>\n",
       "      <td>1</td>\n",
       "      <td>20.0</td>\n",
       "      <td>21.0</td>\n",
       "      <td>2</td>\n",
       "      <td>30</td>\n",
       "      <td>0</td>\n",
       "    </tr>\n",
       "    <tr>\n",
       "      <th>0</th>\n",
       "      <td>1</td>\n",
       "      <td>20.0</td>\n",
       "      <td>21.0</td>\n",
       "      <td>3</td>\n",
       "      <td>40</td>\n",
       "      <td>0</td>\n",
       "    </tr>\n",
       "    <tr>\n",
       "      <th>0</th>\n",
       "      <td>1</td>\n",
       "      <td>20.0</td>\n",
       "      <td>21.0</td>\n",
       "      <td>4</td>\n",
       "      <td>50</td>\n",
       "      <td>0</td>\n",
       "    </tr>\n",
       "    <tr>\n",
       "      <th>0</th>\n",
       "      <td>2</td>\n",
       "      <td>50.0</td>\n",
       "      <td>51.0</td>\n",
       "      <td>5</td>\n",
       "      <td>60</td>\n",
       "      <td>0</td>\n",
       "    </tr>\n",
       "    <tr>\n",
       "      <th>0</th>\n",
       "      <td>2</td>\n",
       "      <td>50.0</td>\n",
       "      <td>51.0</td>\n",
       "      <td>6</td>\n",
       "      <td>70</td>\n",
       "      <td>0</td>\n",
       "    </tr>\n",
       "    <tr>\n",
       "      <th>0</th>\n",
       "      <td>2</td>\n",
       "      <td>50.0</td>\n",
       "      <td>51.0</td>\n",
       "      <td>7</td>\n",
       "      <td>80</td>\n",
       "      <td>0</td>\n",
       "    </tr>\n",
       "    <tr>\n",
       "      <th>0</th>\n",
       "      <td>2</td>\n",
       "      <td>50.0</td>\n",
       "      <td>51.0</td>\n",
       "      <td>8</td>\n",
       "      <td>90</td>\n",
       "      <td>0</td>\n",
       "    </tr>\n",
       "    <tr>\n",
       "      <th>0</th>\n",
       "      <td>2</td>\n",
       "      <td>50.0</td>\n",
       "      <td>51.0</td>\n",
       "      <td>9</td>\n",
       "      <td>100</td>\n",
       "      <td>0</td>\n",
       "    </tr>\n",
       "  </tbody>\n",
       "</table>\n",
       "</div>"
      ],
      "text/plain": [
       "   id  quality    price  citizen_id  money  period\n",
       "0  -1   -100.0 -10000.0           0     10       0\n",
       "0   0     10.0     11.0           1     20       0\n",
       "0   1     20.0     21.0           2     30       0\n",
       "0   1     20.0     21.0           3     40       0\n",
       "0   1     20.0     21.0           4     50       0\n",
       "0   2     50.0     51.0           5     60       0\n",
       "0   2     50.0     51.0           6     70       0\n",
       "0   2     50.0     51.0           7     80       0\n",
       "0   2     50.0     51.0           8     90       0\n",
       "0   2     50.0     51.0           9    100       0"
      ]
     },
     "execution_count": 31,
     "metadata": {},
     "output_type": "execute_result"
    }
   ],
   "source": [
    "cit_df[0:10]"
   ]
  },
  {
   "cell_type": "code",
   "execution_count": 32,
   "metadata": {},
   "outputs": [
    {
     "data": {
      "text/html": [
       "<div>\n",
       "<style scoped>\n",
       "    .dataframe tbody tr th:only-of-type {\n",
       "        vertical-align: middle;\n",
       "    }\n",
       "\n",
       "    .dataframe tbody tr th {\n",
       "        vertical-align: top;\n",
       "    }\n",
       "\n",
       "    .dataframe thead th {\n",
       "        text-align: right;\n",
       "    }\n",
       "</style>\n",
       "<table border=\"1\" class=\"dataframe\">\n",
       "  <thead>\n",
       "    <tr style=\"text-align: right;\">\n",
       "      <th></th>\n",
       "      <th>id</th>\n",
       "      <th>max_quality</th>\n",
       "      <th>cost</th>\n",
       "      <th>capital</th>\n",
       "      <th>pur</th>\n",
       "      <th>price</th>\n",
       "      <th>period</th>\n",
       "    </tr>\n",
       "  </thead>\n",
       "  <tbody>\n",
       "    <tr>\n",
       "      <th>0</th>\n",
       "      <td>0</td>\n",
       "      <td>10.0</td>\n",
       "      <td>10.00</td>\n",
       "      <td>838.11</td>\n",
       "      <td>1</td>\n",
       "      <td>11.00</td>\n",
       "      <td>0</td>\n",
       "    </tr>\n",
       "    <tr>\n",
       "      <th>0</th>\n",
       "      <td>1</td>\n",
       "      <td>20.0</td>\n",
       "      <td>20.00</td>\n",
       "      <td>1391.25</td>\n",
       "      <td>3</td>\n",
       "      <td>21.00</td>\n",
       "      <td>0</td>\n",
       "    </tr>\n",
       "    <tr>\n",
       "      <th>0</th>\n",
       "      <td>2</td>\n",
       "      <td>50.0</td>\n",
       "      <td>50.00</td>\n",
       "      <td>1000.29</td>\n",
       "      <td>5</td>\n",
       "      <td>51.00</td>\n",
       "      <td>0</td>\n",
       "    </tr>\n",
       "    <tr>\n",
       "      <th>0</th>\n",
       "      <td>0</td>\n",
       "      <td>5.0</td>\n",
       "      <td>11.07</td>\n",
       "      <td>790.66</td>\n",
       "      <td>0</td>\n",
       "      <td>12.07</td>\n",
       "      <td>1</td>\n",
       "    </tr>\n",
       "    <tr>\n",
       "      <th>0</th>\n",
       "      <td>1</td>\n",
       "      <td>25.0</td>\n",
       "      <td>15.56</td>\n",
       "      <td>1285.32</td>\n",
       "      <td>4</td>\n",
       "      <td>16.56</td>\n",
       "      <td>1</td>\n",
       "    </tr>\n",
       "    <tr>\n",
       "      <th>0</th>\n",
       "      <td>2</td>\n",
       "      <td>44.0</td>\n",
       "      <td>58.81</td>\n",
       "      <td>871.24</td>\n",
       "      <td>5</td>\n",
       "      <td>59.81</td>\n",
       "      <td>1</td>\n",
       "    </tr>\n",
       "    <tr>\n",
       "      <th>0</th>\n",
       "      <td>0</td>\n",
       "      <td>10.0</td>\n",
       "      <td>10.00</td>\n",
       "      <td>790.66</td>\n",
       "      <td>0</td>\n",
       "      <td>11.00</td>\n",
       "      <td>2</td>\n",
       "    </tr>\n",
       "    <tr>\n",
       "      <th>0</th>\n",
       "      <td>1</td>\n",
       "      <td>26.0</td>\n",
       "      <td>13.15</td>\n",
       "      <td>1268.40</td>\n",
       "      <td>4</td>\n",
       "      <td>14.15</td>\n",
       "      <td>2</td>\n",
       "    </tr>\n",
       "    <tr>\n",
       "      <th>0</th>\n",
       "      <td>2</td>\n",
       "      <td>50.0</td>\n",
       "      <td>58.00</td>\n",
       "      <td>721.57</td>\n",
       "      <td>5</td>\n",
       "      <td>59.00</td>\n",
       "      <td>2</td>\n",
       "    </tr>\n",
       "  </tbody>\n",
       "</table>\n",
       "</div>"
      ],
      "text/plain": [
       "   id  max_quality   cost  capital  pur  price  period\n",
       "0   0         10.0  10.00   838.11    1  11.00       0\n",
       "0   1         20.0  20.00  1391.25    3  21.00       0\n",
       "0   2         50.0  50.00  1000.29    5  51.00       0\n",
       "0   0          5.0  11.07   790.66    0  12.07       1\n",
       "0   1         25.0  15.56  1285.32    4  16.56       1\n",
       "0   2         44.0  58.81   871.24    5  59.81       1\n",
       "0   0         10.0  10.00   790.66    0  11.00       2\n",
       "0   1         26.0  13.15  1268.40    4  14.15       2\n",
       "0   2         50.0  58.00   721.57    5  59.00       2"
      ]
     },
     "execution_count": 32,
     "metadata": {},
     "output_type": "execute_result"
    }
   ],
   "source": [
    "fact_df"
   ]
  },
  {
   "cell_type": "code",
   "execution_count": 2,
   "metadata": {},
   "outputs": [],
   "source": [
    "# # кривая спроса\n",
    "\n",
    "# k=100\n",
    "# fact_lst=[]\n",
    "# for i in range(1,k+1):\n",
    "#     fact=sm.factory(id=i)\n",
    "#     fact.max_quality=30\n",
    "#     fact.cost=i\n",
    "#     fact_lst.append(fact)\n",
    "    \n",
    "# pr=sm.global_produce(fact_lst)\n",
    "\n",
    "\n",
    "# N=20000\n",
    "# cit_lst=[]\n",
    "# for i in range(N):\n",
    "#     cit=sm.citizen(id=i)\n",
    "#     cit_lst.append(cit)\n",
    "\n",
    "\n",
    "# s_lst=[]\n",
    "# for j in range(k): \n",
    "#     rr=sm.global_consume(cit_lst, [pr[j]])\n",
    "#     s=0\n",
    "#     for i in range(N):\n",
    "#         if rr[i].id>0:\n",
    "#             s=s+1\n",
    "#     s_lst.append(s)\n",
    "# spr=pd.DataFrame()\n",
    "# spr['price']=range(1,k+1)\n",
    "# spr['spr']=s_lst\n",
    "# spr['share']=spr['spr']/N"
   ]
  },
  {
   "cell_type": "code",
   "execution_count": 6,
   "metadata": {},
   "outputs": [],
   "source": [
    "norm=pd.read_csv('norm.csv')\n",
    "norm['normalise']=norm['share']\n",
    "ravm=pd.read_csv('ravn.csv')\n",
    "ravm['equal']=ravm['share']\n",
    "gamma=pd.read_csv('gamma.csv')\n",
    "gamma['gamma']=gamma['share']\n",
    "\n",
    "res=norm.merge(ravm, 'left', on='price')\n",
    "res=res.merge(gamma, 'left', on='price')"
   ]
  },
  {
   "cell_type": "code",
   "execution_count": 11,
   "metadata": {},
   "outputs": [
    {
     "data": {
      "text/plain": [
       "<matplotlib.axes._subplots.AxesSubplot at 0x7f9538a66d30>"
      ]
     },
     "execution_count": 11,
     "metadata": {},
     "output_type": "execute_result"
    },
    {
     "data": {
      "image/png": "[encoded data removed]",
      "text/plain": [
       "<Figure size 1008x864 with 1 Axes>"
      ]
     },
     "metadata": {
      "needs_background": "light"
     },
     "output_type": "display_data"
    }
   ],
   "source": [
    "res.set_index('price')[['equal', 'normalise', 'gamma']].plot(title='Demand curve', figsize=(14,12))"
   ]
  },
  {
   "cell_type": "code",
   "execution_count": 23,
   "metadata": {},
   "outputs": [],
   "source": [
    "# # кривая предложения\n",
    "\n",
    "k=1000\n",
    "fact_lst=[]\n",
    "\n",
    "fact_df=pd.DataFrame()\n",
    "for i in range(k):\n",
    "    fact=sm.factory(id=i)\n",
    "    fact.max_quality=30\n",
    "    fact_lst.append(fact)\n",
    "    fact_df=pd.concat([fact_df, fact.to_df()])\n",
    "    \n",
    "\n",
    "    \n",
    "cst=fact_df['cost'].values\n",
    "\n",
    "s_lst=[]\n",
    "for i in range(100):\n",
    "    s=0\n",
    "    for cc in cst:\n",
    "        if cc<i:\n",
    "            s=s+1\n",
    "    s_lst.append(s)\n",
    "    \n",
    "ss=pd.DataFrame()\n",
    "ss['price']=range(100)\n",
    "ss['spr']=s_lst\n",
    "ss['share']=ss['spr']/k\n",
    "\n",
    "\n",
    "\n"
   ]
  },
  {
   "cell_type": "code",
   "execution_count": 24,
   "metadata": {},
   "outputs": [
    {
     "data": {
      "text/plain": [
       "<matplotlib.axes._subplots.AxesSubplot at 0x7f9535e2b4a8>"
      ]
     },
     "execution_count": 24,
     "metadata": {},
     "output_type": "execute_result"
    },
    {
     "data": {
      "image/png": "[encoded data removed]",
      "text/plain": [
       "<Figure size 1008x864 with 1 Axes>"
      ]
     },
     "metadata": {
      "needs_background": "light"
     },
     "output_type": "display_data"
    }
   ],
   "source": [
    "ss.set_index('price')[['share']].plot(title='Supply curve', figsize=(14,12))"
   ]
  },
  {
   "cell_type": "code",
   "execution_count": null,
   "metadata": {},
   "outputs": [],
   "source": []
  }
 ],
 "metadata": {
  "kernelspec": {
   "display_name": "Python 3",
   "language": "python",
   "name": "python3"
  },
  "language_info": {
   "codemirror_mode": {
    "name": "ipython",
    "version": 3
   },
   "file_extension": ".py",
   "mimetype": "text/x-python",
   "name": "python",
   "nbconvert_exporter": "python",
   "pygments_lexer": "ipython3",
   "version": "3.7.3"
  }
 },
 "nbformat": 4,
 "nbformat_minor": 2
}
