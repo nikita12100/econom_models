{
 "cells": [
  {
   "cell_type": "code",
   "execution_count": 1,
   "metadata": {},
   "outputs": [],
   "source": [
    "import random\n",
    "import numpy as np\n",
    "import pandas as pd\n",
    "\n",
    "#настройки, с которыми лучше\n",
    "pd.set_option('display.max_rows', 45000)\n",
    "pd.set_option('display.max_columns', 50000)\n",
    "pd.set_option('display.max_colwidth', 5000)\n"
   ]
  },
  {
   "cell_type": "code",
   "execution_count": 2,
   "metadata": {},
   "outputs": [],
   "source": [
    "# parameters\n",
    "# salary\n",
    "citizen_salary_parameter1=3\n",
    "citizen_salary_parameter2=10\n",
    "\n",
    "max_price=10000\n",
    "min_qv=0\n",
    "\n",
    "# разброс расходов\n",
    "max_cost=100\n",
    "min_cost=5\n",
    "\n",
    "# разброс качества\n",
    "max_qv=30\n",
    "min_qv=2\n",
    "\n",
    "# разброс капитала\n",
    "cap_avarage=1000\n",
    "cap_disp=300\n",
    "\n",
    "# разброс инвестиций\n",
    "capital_average=-100\n",
    "capital_disp=50\n",
    "\n",
    "# разброс изменений себестоимости\n",
    "cost_average=0\n",
    "cost_disp=3\n",
    "\n",
    "# разброс изменений качества\n",
    "qv_average=0\n",
    "qv_disp=1"
   ]
  },
  {
   "cell_type": "code",
   "execution_count": 3,
   "metadata": {},
   "outputs": [],
   "source": [
    "# класс продукта      \n",
    "class product:\n",
    "    def __init__(self, id=-1, quality=-100, price=-10000):\n",
    "        self.id=id\n",
    "        self.quality=quality\n",
    "        self.price=price\n",
    "        \n",
    "    # отображаем все параметры в виду dataframe\n",
    "    def to_df(self):\n",
    "        df=pd.DataFrame(data=[self.__dict__.values()], columns=self.__dict__.keys())\n",
    "        return df"
   ]
  },
  {
   "cell_type": "code",
   "execution_count": 4,
   "metadata": {},
   "outputs": [
    {
     "data": {
      "text/plain": [
       "0.123457"
      ]
     },
     "execution_count": 4,
     "metadata": {},
     "output_type": "execute_result"
    }
   ],
   "source": [
    "round(0.123456789,6)"
   ]
  },
  {
   "cell_type": "code",
   "execution_count": 5,
   "metadata": {},
   "outputs": [],
   "source": [
    "# класс потребителя\n",
    "class citizen:\n",
    "    def __init__(self, id=0):\n",
    "        # id\n",
    "        self.id=id\n",
    "        # стартовый капитал\n",
    "        self.money=self.set_salary()\n",
    "    \n",
    "    # задаём схему по которой человек будет получать зарплату\n",
    "    # все схемы на основе генератора случайных чисел\n",
    "    def set_salary(self):\n",
    "        # \"коммунизм\", у всех одинаковое случайное число\n",
    "        # return round(random.randint(10, 100),2)\n",
    "        # \"развитой социализм\", нормальное распределение, у большиснтва средняя зарплата\n",
    "        #return round(random.normalvariate((100-10)/2, 10),2)\n",
    "        # \"современное общество\", есть длинный правый хвост\n",
    "        return round(random.gammavariate(citizen_salary_parameter1, citizen_salary_parameter2),2)\n",
    "        \n",
    "    # функция потребления продуктов\n",
    "    # берём то, что можем позволить по деньгам\n",
    "    # берём самый качественный, который можем\n",
    "    # при равном качестве тот, что дешевле\n",
    "    def consume(self, products):\n",
    "        # возвращать будем продукт\n",
    "        fun_result=product(id=-1)\n",
    "        available_product_lst=[]\n",
    "        # цикл для фильтрации тех, что не карману\n",
    "        for pr in products:\n",
    "            if self.money>=pr.price:\n",
    "                available_product_lst.append(pr)\n",
    "        \n",
    "        best_price=max_price\n",
    "        best_qv=min_qv\n",
    "        # цикл поиска лучшего качества\n",
    "        for pr in available_product_lst:\n",
    "            if pr.quality>=best_qv:\n",
    "                best_qv=pr.quality\n",
    "        \n",
    "        product_qv_lst=[]\n",
    "        # сбор всех продуктов лучшего качества\n",
    "        for pr in available_product_lst:\n",
    "            if pr.quality==best_qv:\n",
    "                product_qv_lst.append(pr)\n",
    "        \n",
    "        # выбор из них тех, что дешевле\n",
    "        for pr in product_qv_lst:\n",
    "            if pr.price<=best_price:\n",
    "                best_price=pr.price\n",
    "        \n",
    "        # вывод продукта с лучшими характеристиками\n",
    "        for pr in product_qv_lst:\n",
    "            if pr.price==best_price:\n",
    "                fun_result=pr\n",
    "                break\n",
    "        \n",
    "        return fun_result \n",
    "    \n",
    "    # отображаем все параметры в виду dataframe\n",
    "    def to_df(self):\n",
    "        df=pd.DataFrame(data=[self.__dict__.values()], columns=self.__dict__.keys())\n",
    "        return df\n",
    "    "
   ]
  },
  {
   "cell_type": "code",
   "execution_count": 6,
   "metadata": {},
   "outputs": [],
   "source": [
    "# класс фабрики        \n",
    "class factory:\n",
    "    def __init__(self, id=-1):\n",
    "        # id\n",
    "        self.id=id\n",
    "        # предел качества продукта, меньше - можно\n",
    "        self.max_quality=self.set_params()[0]\n",
    "        # себестоимость\n",
    "        self.cost=self.set_params()[1]\n",
    "        # деньги у завода\n",
    "        self.capital=self.set_params()[2]\n",
    "        # продажи текущего периода\n",
    "        self.pur=0\n",
    "        # цена продажи текущего периода\n",
    "        self.price=0\n",
    "        self.capital_history=[]\n",
    "        self.cost_history=[]\n",
    "        self.quality_history=[]\n",
    "        self.pur_history=[]\n",
    "        self.price_history=[]\n",
    "        self.history=pd.DataFrame()\n",
    "        \n",
    "    def set_params(self):\n",
    "        max_quality=round(random.randint(min_qv, max_qv),0)\n",
    "        selcost=round(random.randint(min_cost, max_cost),2)\n",
    "        capital=round(random.normalvariate(cap_avarage, cap_disp),2)\n",
    "        \n",
    "        return max_quality, selcost, capital\n",
    "        \n",
    "    # функция проверки кредитоспособности\n",
    "    def check(self):\n",
    "        if self.capital<=0:\n",
    "            return -1\n",
    "        else:\n",
    "            return 0\n",
    "\n",
    "    #  функция производтсва\n",
    "    def produce(self, product_id, price, quality):\n",
    "        # если норм по капиталам, себестоимости и производственным мощностям, то вперёд\n",
    "        if (price>self.cost) and (quality<=self.max_quality) and (self.check()==0):\n",
    "            self.price=price\n",
    "            return product(id=product_id, quality=quality, price=price)\n",
    "        else:\n",
    "            self.price=-10000\n",
    "            return product(id=-1)\n",
    "        \n",
    "    # функкция сделки\n",
    "    def trade(self):\n",
    "        # расходы на производство считаем здесь, чтобы не заморачиваться пока остатками\n",
    "        self.capital=self.capital-self.cost\n",
    "        if self.check()==0:\n",
    "            # поднимаем счётчики\n",
    "            self.pur=self.pur+1\n",
    "            self.capital=self.capital+self.price\n",
    "        else:\n",
    "            pass\n",
    "        \n",
    "    # храним историю продаж, запускаем в конце цикла\n",
    "    def hist(self):#, period):\n",
    "        self.capital_history.append(self.capital)\n",
    "        self.cost_history.append(self.cost)\n",
    "        self.quality_history.append(self.max_quality)\n",
    "        self.pur_history.append(self.pur)\n",
    "        self.price_history.append(self.price)\n",
    "        \n",
    "    def get_modern_params(self):\n",
    "        capital_addon=round(random.normalvariate(capital_average, capital_disp),2)\n",
    "        if capital_addon>0:\n",
    "            capital_addon=-10\n",
    "        cost_addon=round(random.normalvariate(cost_average, cost_disp),2)\n",
    "        qv_addon=round(random.normalvariate(qv_average, qv_disp),0)\n",
    "        \n",
    "        return qv_addon, cost_addon, capital_addon\n",
    "    \n",
    "    def modernise_proces(self,qv_addon, cost_addon, capital_addon):\n",
    "        if (self.capital+capital_addon>0):\n",
    "            if self.max_quality+qv_addon>0:\n",
    "                self.max_quality=self.max_quality+qv_addon\n",
    "            if self.cost+cost_addon>0:\n",
    "                self.cost=self.cost+cost_addon\n",
    "            self.capital=self.capital+capital_addon\n",
    "        else:\n",
    "            pass\n",
    "    \n",
    "    # функция модернизации\n",
    "    def modernise(self):\n",
    "        # получили параметры модернизации\n",
    "        qv_addon, cost_addon, capital_addon=self.get_modern_params()\n",
    "        \n",
    "        # если раунд не первый, то\n",
    "        if len(self.pur_history)>1:\n",
    "            # если сейчас продаж нет, а раньше были, то откатываемся\n",
    "            if (self.pur==0)&(self.pur_history[-1]>0):\n",
    "                print('1')\n",
    "                self.max_quality=self.quality_history[-1]\n",
    "                self.cost=self.cost_history[-1]\n",
    "            else: \n",
    "                print('2')\n",
    "                self.modernise_proces(qv_addon, cost_addon, capital_addon)\n",
    "        # на первом раунде все модернизируются\n",
    "        else: \n",
    "            print('3')\n",
    "            self.modernise_proces(qv_addon, cost_addon, capital_addon)\n",
    "\n",
    "\n",
    "\n",
    "    def to_null(self):\n",
    "        # обнуляем счётчики текущего цикла\n",
    "        self.price=0\n",
    "        self.pur=0\n",
    "    \n",
    "    # отображаем все параметры в виду dataframe\n",
    "    def to_df(self):\n",
    "        df=pd.DataFrame(data=[self.__dict__.values()], columns=self.__dict__.keys())\n",
    "        df=df.drop(columns=['history'])\n",
    "        return df"
   ]
  },
  {
   "cell_type": "code",
   "execution_count": 7,
   "metadata": {},
   "outputs": [],
   "source": [
    "# базовые тест\n",
    "# проверяем, что продукт создаётся\n",
    "pr_a_df=product(id=0).to_df()\n",
    "pr_b_df=product(id=1, quality=50, price=99).to_df()\n",
    "\n",
    "# проверяем, что житель создаётся\n",
    "cit_a_df=citizen(id=0).to_df()\n",
    "\n",
    "# проверяем распредление зарплат жителей\n",
    "N=50\n",
    "cit_lst=[]\n",
    "cit_df=pd.DataFrame()\n",
    "for i in range(N):\n",
    "    cit=citizen(id=i)\n",
    "    cit_lst.append(cit)\n",
    "    cit_df=pd.concat([cit_df, cit.to_df()])\n",
    "    \n",
    "# проверяем функцию потребления\n",
    "# житель для теста\n",
    "cit_a=citizen(id=1)\n",
    "cit_a.money=30\n",
    "# выбор самого дешёго продукта равного качества\n",
    "pr_a1=product(id=0, quality=10, price=20)\n",
    "pr_a2=product(id=1, quality=10, price=30)\n",
    "pr_a3=product(id=2, quality=10, price=40)\n",
    "# выбор самого качественного продукта одной цены\n",
    "pr_b1=product(id=3, quality=10, price=20)\n",
    "pr_b2=product(id=4, quality=20, price=20)\n",
    "pr_b3=product(id=5, quality=30, price=20)\n",
    "# выбор оптимального доступного\n",
    "pr_c1=product(id=6, quality=10, price=10)\n",
    "pr_c2=product(id=7, quality=30, price=30)\n",
    "pr_c3=product(id=8, quality=50, price=50)\n",
    "\n",
    "# проверяем создаем завода\n",
    "fact_a_df=factory(id=0).to_df()\n",
    "\n",
    "# проверяем распредление параметров завода\n",
    "n=10\n",
    "fact_lst=[]\n",
    "fact_df=pd.DataFrame()\n",
    "for i in range(n):\n",
    "    f=factory(id=i)\n",
    "    fact_lst.append(f)\n",
    "    fact_df=pd.concat([fact_df, f.to_df()])\n",
    "\n",
    "# проверяем функцию производства\n",
    "# завод для теста\n",
    "fact_ap1=factory(id=1)\n",
    "fact_ap1.max_quality=40\n",
    "fact_ap1.cost=10\n",
    "fact_ap1.capital=300\n",
    "# проверка условия по себестоимости\n",
    "pr1=fact_ap1.produce(202, price=20, quality=30)\n",
    "pr2=fact_ap1.produce(203, price=10, quality=30)\n",
    "pr3=fact_ap1.produce(203, price=9, quality=30)\n",
    "# проверка условия по качеству\n",
    "pr4=fact_ap1.produce(203, price=20, quality=10)\n",
    "pr5=fact_ap1.produce(203, price=20, quality=30)\n",
    "pr6=fact_ap1.produce(203, price=20, quality=50)\n",
    "\n",
    "# проверяем функцию продажи\n",
    "# продаём товар один раз\n",
    "fact_tr1=factory(id=7)\n",
    "fact_tr1.cost=10\n",
    "fact_tr1.max_quality=15\n",
    "fact_tr1.capital=300\n",
    "fact_tr1.produce(product_id=18, price=20, quality=15)\n",
    "fact_tr1.trade()\n",
    "\n",
    "# пытаемся продать товар, когда у нас мало капитала\n",
    "fact_tr2=factory(id=8)\n",
    "fact_tr2.cost=10\n",
    "fact_tr2.max_quality=15\n",
    "fact_tr2.capital=5\n",
    "fact_tr2.produce(product_id=18, price=20, quality=15)\n",
    "fact_tr2.trade()\n",
    "\n",
    "# тестируем функцию логирования\n",
    "ht=factory(id=21)\n",
    "ht.hist()\n",
    "ht.capital=300\n",
    "ht.hist()\n",
    "ht.capital=350\n",
    "ht.hist()\n",
    "\n",
    "# массив заводов, покупки и логирование\n",
    "n=5\n",
    "fact_h_lst=[]\n",
    "for i in range(n):\n",
    "    f=factory(id=i)\n",
    "    f.capital=300\n",
    "    f.cost=10\n",
    "    f.produce(product_id=i, price=11, quality=1)\n",
    "    fact_h_lst.append(f)\n",
    "\n",
    "for i in range(n):    \n",
    "    for j in range(4):\n",
    "        fact_h_lst[i].trade()\n",
    "        fact_h_lst[i].hist()\n",
    "        \n",
    "# проверяем рандом параметров\n",
    "t=factory(id=31)\n",
    "nn=500\n",
    "params_lst=[]\n",
    "for i in range(nn):\n",
    "    pl=t.get_modern_params()\n",
    "    params_lst.append(pl)\n",
    "params_df=pd.DataFrame(params_lst)\n",
    "params_df.columns=['qv_addon', 'cost_addon', 'capital_addon']"
   ]
  },
  {
   "cell_type": "code",
   "execution_count": 8,
   "metadata": {},
   "outputs": [
    {
     "data": {
      "text/html": [
       "<div>\n",
       "<style scoped>\n",
       "    .dataframe tbody tr th:only-of-type {\n",
       "        vertical-align: middle;\n",
       "    }\n",
       "\n",
       "    .dataframe tbody tr th {\n",
       "        vertical-align: top;\n",
       "    }\n",
       "\n",
       "    .dataframe thead th {\n",
       "        text-align: right;\n",
       "    }\n",
       "</style>\n",
       "<table border=\"1\" class=\"dataframe\">\n",
       "  <thead>\n",
       "    <tr style=\"text-align: right;\">\n",
       "      <th></th>\n",
       "      <th>id</th>\n",
       "      <th>quality</th>\n",
       "      <th>price</th>\n",
       "    </tr>\n",
       "  </thead>\n",
       "  <tbody>\n",
       "    <tr>\n",
       "      <th>0</th>\n",
       "      <td>0</td>\n",
       "      <td>-100</td>\n",
       "      <td>-10000</td>\n",
       "    </tr>\n",
       "  </tbody>\n",
       "</table>\n",
       "</div>"
      ],
      "text/plain": [
       "   id  quality  price\n",
       "0   0     -100 -10000"
      ]
     },
     "execution_count": 8,
     "metadata": {},
     "output_type": "execute_result"
    }
   ],
   "source": [
    "pr_a_df #id=0 qv=-100 price=-10000"
   ]
  },
  {
   "cell_type": "code",
   "execution_count": 9,
   "metadata": {},
   "outputs": [
    {
     "data": {
      "text/html": [
       "<div>\n",
       "<style scoped>\n",
       "    .dataframe tbody tr th:only-of-type {\n",
       "        vertical-align: middle;\n",
       "    }\n",
       "\n",
       "    .dataframe tbody tr th {\n",
       "        vertical-align: top;\n",
       "    }\n",
       "\n",
       "    .dataframe thead th {\n",
       "        text-align: right;\n",
       "    }\n",
       "</style>\n",
       "<table border=\"1\" class=\"dataframe\">\n",
       "  <thead>\n",
       "    <tr style=\"text-align: right;\">\n",
       "      <th></th>\n",
       "      <th>id</th>\n",
       "      <th>quality</th>\n",
       "      <th>price</th>\n",
       "    </tr>\n",
       "  </thead>\n",
       "  <tbody>\n",
       "    <tr>\n",
       "      <th>0</th>\n",
       "      <td>1</td>\n",
       "      <td>50</td>\n",
       "      <td>99</td>\n",
       "    </tr>\n",
       "  </tbody>\n",
       "</table>\n",
       "</div>"
      ],
      "text/plain": [
       "   id  quality  price\n",
       "0   1       50     99"
      ]
     },
     "execution_count": 9,
     "metadata": {},
     "output_type": "execute_result"
    }
   ],
   "source": [
    "pr_b_df #id=1 qv=50 price=99"
   ]
  },
  {
   "cell_type": "code",
   "execution_count": 10,
   "metadata": {},
   "outputs": [
    {
     "data": {
      "text/html": [
       "<div>\n",
       "<style scoped>\n",
       "    .dataframe tbody tr th:only-of-type {\n",
       "        vertical-align: middle;\n",
       "    }\n",
       "\n",
       "    .dataframe tbody tr th {\n",
       "        vertical-align: top;\n",
       "    }\n",
       "\n",
       "    .dataframe thead th {\n",
       "        text-align: right;\n",
       "    }\n",
       "</style>\n",
       "<table border=\"1\" class=\"dataframe\">\n",
       "  <thead>\n",
       "    <tr style=\"text-align: right;\">\n",
       "      <th></th>\n",
       "      <th>id</th>\n",
       "      <th>money</th>\n",
       "    </tr>\n",
       "  </thead>\n",
       "  <tbody>\n",
       "    <tr>\n",
       "      <th>0</th>\n",
       "      <td>0</td>\n",
       "      <td>33.08</td>\n",
       "    </tr>\n",
       "  </tbody>\n",
       "</table>\n",
       "</div>"
      ],
      "text/plain": [
       "   id  money\n",
       "0   0  33.08"
      ]
     },
     "execution_count": 10,
     "metadata": {},
     "output_type": "execute_result"
    }
   ],
   "source": [
    "cit_a_df #id=0 money=rand"
   ]
  },
  {
   "cell_type": "code",
   "execution_count": 11,
   "metadata": {},
   "outputs": [
    {
     "data": {
      "text/plain": [
       "<matplotlib.axes._subplots.AxesSubplot at 0x7f3d2fcbc198>"
      ]
     },
     "execution_count": 11,
     "metadata": {},
     "output_type": "execute_result"
    }
   ],
   "source": [
    "cit_df['money'].hist()"
   ]
  },
  {
   "cell_type": "code",
   "execution_count": 12,
   "metadata": {},
   "outputs": [
    {
     "data": {
      "text/html": [
       "<div>\n",
       "<style scoped>\n",
       "    .dataframe tbody tr th:only-of-type {\n",
       "        vertical-align: middle;\n",
       "    }\n",
       "\n",
       "    .dataframe tbody tr th {\n",
       "        vertical-align: top;\n",
       "    }\n",
       "\n",
       "    .dataframe thead th {\n",
       "        text-align: right;\n",
       "    }\n",
       "</style>\n",
       "<table border=\"1\" class=\"dataframe\">\n",
       "  <thead>\n",
       "    <tr style=\"text-align: right;\">\n",
       "      <th></th>\n",
       "      <th>id</th>\n",
       "      <th>quality</th>\n",
       "      <th>price</th>\n",
       "    </tr>\n",
       "  </thead>\n",
       "  <tbody>\n",
       "    <tr>\n",
       "      <th>0</th>\n",
       "      <td>0</td>\n",
       "      <td>10</td>\n",
       "      <td>20</td>\n",
       "    </tr>\n",
       "  </tbody>\n",
       "</table>\n",
       "</div>"
      ],
      "text/plain": [
       "   id  quality  price\n",
       "0   0       10     20"
      ]
     },
     "execution_count": 12,
     "metadata": {},
     "output_type": "execute_result"
    }
   ],
   "source": [
    "cit_a.consume([pr_a1, pr_a2, pr_a3]).to_df()  #id=0"
   ]
  },
  {
   "cell_type": "code",
   "execution_count": 13,
   "metadata": {},
   "outputs": [
    {
     "data": {
      "text/html": [
       "<div>\n",
       "<style scoped>\n",
       "    .dataframe tbody tr th:only-of-type {\n",
       "        vertical-align: middle;\n",
       "    }\n",
       "\n",
       "    .dataframe tbody tr th {\n",
       "        vertical-align: top;\n",
       "    }\n",
       "\n",
       "    .dataframe thead th {\n",
       "        text-align: right;\n",
       "    }\n",
       "</style>\n",
       "<table border=\"1\" class=\"dataframe\">\n",
       "  <thead>\n",
       "    <tr style=\"text-align: right;\">\n",
       "      <th></th>\n",
       "      <th>id</th>\n",
       "      <th>quality</th>\n",
       "      <th>price</th>\n",
       "    </tr>\n",
       "  </thead>\n",
       "  <tbody>\n",
       "    <tr>\n",
       "      <th>0</th>\n",
       "      <td>5</td>\n",
       "      <td>30</td>\n",
       "      <td>20</td>\n",
       "    </tr>\n",
       "  </tbody>\n",
       "</table>\n",
       "</div>"
      ],
      "text/plain": [
       "   id  quality  price\n",
       "0   5       30     20"
      ]
     },
     "execution_count": 13,
     "metadata": {},
     "output_type": "execute_result"
    }
   ],
   "source": [
    "cit_a.consume([pr_b1, pr_b2, pr_b3]).to_df() #id=5"
   ]
  },
  {
   "cell_type": "code",
   "execution_count": 14,
   "metadata": {},
   "outputs": [
    {
     "data": {
      "text/html": [
       "<div>\n",
       "<style scoped>\n",
       "    .dataframe tbody tr th:only-of-type {\n",
       "        vertical-align: middle;\n",
       "    }\n",
       "\n",
       "    .dataframe tbody tr th {\n",
       "        vertical-align: top;\n",
       "    }\n",
       "\n",
       "    .dataframe thead th {\n",
       "        text-align: right;\n",
       "    }\n",
       "</style>\n",
       "<table border=\"1\" class=\"dataframe\">\n",
       "  <thead>\n",
       "    <tr style=\"text-align: right;\">\n",
       "      <th></th>\n",
       "      <th>id</th>\n",
       "      <th>quality</th>\n",
       "      <th>price</th>\n",
       "    </tr>\n",
       "  </thead>\n",
       "  <tbody>\n",
       "    <tr>\n",
       "      <th>0</th>\n",
       "      <td>7</td>\n",
       "      <td>30</td>\n",
       "      <td>30</td>\n",
       "    </tr>\n",
       "  </tbody>\n",
       "</table>\n",
       "</div>"
      ],
      "text/plain": [
       "   id  quality  price\n",
       "0   7       30     30"
      ]
     },
     "execution_count": 14,
     "metadata": {},
     "output_type": "execute_result"
    }
   ],
   "source": [
    "cit_a.consume([pr_c1, pr_c2, pr_c3]).to_df() #id=7"
   ]
  },
  {
   "cell_type": "code",
   "execution_count": 15,
   "metadata": {},
   "outputs": [
    {
     "data": {
      "text/html": [
       "<div>\n",
       "<style scoped>\n",
       "    .dataframe tbody tr th:only-of-type {\n",
       "        vertical-align: middle;\n",
       "    }\n",
       "\n",
       "    .dataframe tbody tr th {\n",
       "        vertical-align: top;\n",
       "    }\n",
       "\n",
       "    .dataframe thead th {\n",
       "        text-align: right;\n",
       "    }\n",
       "</style>\n",
       "<table border=\"1\" class=\"dataframe\">\n",
       "  <thead>\n",
       "    <tr style=\"text-align: right;\">\n",
       "      <th></th>\n",
       "      <th>id</th>\n",
       "      <th>max_quality</th>\n",
       "      <th>cost</th>\n",
       "      <th>capital</th>\n",
       "      <th>pur</th>\n",
       "      <th>price</th>\n",
       "      <th>capital_history</th>\n",
       "      <th>cost_history</th>\n",
       "      <th>quality_history</th>\n",
       "      <th>pur_history</th>\n",
       "      <th>price_history</th>\n",
       "    </tr>\n",
       "  </thead>\n",
       "  <tbody>\n",
       "    <tr>\n",
       "      <th>0</th>\n",
       "      <td>0</td>\n",
       "      <td>11</td>\n",
       "      <td>57</td>\n",
       "      <td>1511.56</td>\n",
       "      <td>0</td>\n",
       "      <td>0</td>\n",
       "      <td>[]</td>\n",
       "      <td>[]</td>\n",
       "      <td>[]</td>\n",
       "      <td>[]</td>\n",
       "      <td>[]</td>\n",
       "    </tr>\n",
       "  </tbody>\n",
       "</table>\n",
       "</div>"
      ],
      "text/plain": [
       "   id  max_quality  cost  capital  pur  price capital_history cost_history  \\\n",
       "0   0           11    57  1511.56    0      0              []           []   \n",
       "\n",
       "  quality_history pur_history price_history  \n",
       "0              []          []            []  "
      ]
     },
     "execution_count": 15,
     "metadata": {},
     "output_type": "execute_result"
    }
   ],
   "source": [
    "fact_a_df #id=0, all rand or empty"
   ]
  },
  {
   "cell_type": "code",
   "execution_count": 16,
   "metadata": {},
   "outputs": [
    {
     "data": {
      "text/plain": [
       "array([[<matplotlib.axes._subplots.AxesSubplot object at 0x7f3d2f9dee80>,\n",
       "        <matplotlib.axes._subplots.AxesSubplot object at 0x7f3d2f99f550>],\n",
       "       [<matplotlib.axes._subplots.AxesSubplot object at 0x7f3d2f950ac8>,\n",
       "        <matplotlib.axes._subplots.AxesSubplot object at 0x7f3d2f90d0b8>]],\n",
       "      dtype=object)"
      ]
     },
     "execution_count": 16,
     "metadata": {},
     "output_type": "execute_result"
    },
    {
     "data": {
      "image/png": "[encoded data removed]",
      "text/plain": [
       "<Figure size 432x288 with 4 Axes>"
      ]
     },
     "metadata": {
      "needs_background": "light"
     },
     "output_type": "display_data"
    }
   ],
   "source": [
    "fact_df[['max_quality', 'cost', 'capital']].hist()"
   ]
  },
  {
   "cell_type": "code",
   "execution_count": 17,
   "metadata": {},
   "outputs": [
    {
     "data": {
      "text/html": [
       "<div>\n",
       "<style scoped>\n",
       "    .dataframe tbody tr th:only-of-type {\n",
       "        vertical-align: middle;\n",
       "    }\n",
       "\n",
       "    .dataframe tbody tr th {\n",
       "        vertical-align: top;\n",
       "    }\n",
       "\n",
       "    .dataframe thead th {\n",
       "        text-align: right;\n",
       "    }\n",
       "</style>\n",
       "<table border=\"1\" class=\"dataframe\">\n",
       "  <thead>\n",
       "    <tr style=\"text-align: right;\">\n",
       "      <th></th>\n",
       "      <th>id</th>\n",
       "      <th>quality</th>\n",
       "      <th>price</th>\n",
       "    </tr>\n",
       "  </thead>\n",
       "  <tbody>\n",
       "    <tr>\n",
       "      <th>0</th>\n",
       "      <td>202</td>\n",
       "      <td>30</td>\n",
       "      <td>20</td>\n",
       "    </tr>\n",
       "  </tbody>\n",
       "</table>\n",
       "</div>"
      ],
      "text/plain": [
       "    id  quality  price\n",
       "0  202       30     20"
      ]
     },
     "execution_count": 17,
     "metadata": {},
     "output_type": "execute_result"
    }
   ],
   "source": [
    "pr1.to_df() #id>0"
   ]
  },
  {
   "cell_type": "code",
   "execution_count": 18,
   "metadata": {},
   "outputs": [
    {
     "data": {
      "text/html": [
       "<div>\n",
       "<style scoped>\n",
       "    .dataframe tbody tr th:only-of-type {\n",
       "        vertical-align: middle;\n",
       "    }\n",
       "\n",
       "    .dataframe tbody tr th {\n",
       "        vertical-align: top;\n",
       "    }\n",
       "\n",
       "    .dataframe thead th {\n",
       "        text-align: right;\n",
       "    }\n",
       "</style>\n",
       "<table border=\"1\" class=\"dataframe\">\n",
       "  <thead>\n",
       "    <tr style=\"text-align: right;\">\n",
       "      <th></th>\n",
       "      <th>id</th>\n",
       "      <th>quality</th>\n",
       "      <th>price</th>\n",
       "    </tr>\n",
       "  </thead>\n",
       "  <tbody>\n",
       "    <tr>\n",
       "      <th>0</th>\n",
       "      <td>-1</td>\n",
       "      <td>-100</td>\n",
       "      <td>-10000</td>\n",
       "    </tr>\n",
       "  </tbody>\n",
       "</table>\n",
       "</div>"
      ],
      "text/plain": [
       "   id  quality  price\n",
       "0  -1     -100 -10000"
      ]
     },
     "execution_count": 18,
     "metadata": {},
     "output_type": "execute_result"
    }
   ],
   "source": [
    "pr2.to_df() #id<0"
   ]
  },
  {
   "cell_type": "code",
   "execution_count": 19,
   "metadata": {},
   "outputs": [
    {
     "data": {
      "text/html": [
       "<div>\n",
       "<style scoped>\n",
       "    .dataframe tbody tr th:only-of-type {\n",
       "        vertical-align: middle;\n",
       "    }\n",
       "\n",
       "    .dataframe tbody tr th {\n",
       "        vertical-align: top;\n",
       "    }\n",
       "\n",
       "    .dataframe thead th {\n",
       "        text-align: right;\n",
       "    }\n",
       "</style>\n",
       "<table border=\"1\" class=\"dataframe\">\n",
       "  <thead>\n",
       "    <tr style=\"text-align: right;\">\n",
       "      <th></th>\n",
       "      <th>id</th>\n",
       "      <th>quality</th>\n",
       "      <th>price</th>\n",
       "    </tr>\n",
       "  </thead>\n",
       "  <tbody>\n",
       "    <tr>\n",
       "      <th>0</th>\n",
       "      <td>-1</td>\n",
       "      <td>-100</td>\n",
       "      <td>-10000</td>\n",
       "    </tr>\n",
       "  </tbody>\n",
       "</table>\n",
       "</div>"
      ],
      "text/plain": [
       "   id  quality  price\n",
       "0  -1     -100 -10000"
      ]
     },
     "execution_count": 19,
     "metadata": {},
     "output_type": "execute_result"
    }
   ],
   "source": [
    "pr3.to_df() #id<0"
   ]
  },
  {
   "cell_type": "code",
   "execution_count": 20,
   "metadata": {},
   "outputs": [
    {
     "data": {
      "text/html": [
       "<div>\n",
       "<style scoped>\n",
       "    .dataframe tbody tr th:only-of-type {\n",
       "        vertical-align: middle;\n",
       "    }\n",
       "\n",
       "    .dataframe tbody tr th {\n",
       "        vertical-align: top;\n",
       "    }\n",
       "\n",
       "    .dataframe thead th {\n",
       "        text-align: right;\n",
       "    }\n",
       "</style>\n",
       "<table border=\"1\" class=\"dataframe\">\n",
       "  <thead>\n",
       "    <tr style=\"text-align: right;\">\n",
       "      <th></th>\n",
       "      <th>id</th>\n",
       "      <th>quality</th>\n",
       "      <th>price</th>\n",
       "    </tr>\n",
       "  </thead>\n",
       "  <tbody>\n",
       "    <tr>\n",
       "      <th>0</th>\n",
       "      <td>203</td>\n",
       "      <td>10</td>\n",
       "      <td>20</td>\n",
       "    </tr>\n",
       "  </tbody>\n",
       "</table>\n",
       "</div>"
      ],
      "text/plain": [
       "    id  quality  price\n",
       "0  203       10     20"
      ]
     },
     "execution_count": 20,
     "metadata": {},
     "output_type": "execute_result"
    }
   ],
   "source": [
    "pr4.to_df() #id>0"
   ]
  },
  {
   "cell_type": "code",
   "execution_count": 21,
   "metadata": {},
   "outputs": [
    {
     "data": {
      "text/html": [
       "<div>\n",
       "<style scoped>\n",
       "    .dataframe tbody tr th:only-of-type {\n",
       "        vertical-align: middle;\n",
       "    }\n",
       "\n",
       "    .dataframe tbody tr th {\n",
       "        vertical-align: top;\n",
       "    }\n",
       "\n",
       "    .dataframe thead th {\n",
       "        text-align: right;\n",
       "    }\n",
       "</style>\n",
       "<table border=\"1\" class=\"dataframe\">\n",
       "  <thead>\n",
       "    <tr style=\"text-align: right;\">\n",
       "      <th></th>\n",
       "      <th>id</th>\n",
       "      <th>quality</th>\n",
       "      <th>price</th>\n",
       "    </tr>\n",
       "  </thead>\n",
       "  <tbody>\n",
       "    <tr>\n",
       "      <th>0</th>\n",
       "      <td>203</td>\n",
       "      <td>30</td>\n",
       "      <td>20</td>\n",
       "    </tr>\n",
       "  </tbody>\n",
       "</table>\n",
       "</div>"
      ],
      "text/plain": [
       "    id  quality  price\n",
       "0  203       30     20"
      ]
     },
     "execution_count": 21,
     "metadata": {},
     "output_type": "execute_result"
    }
   ],
   "source": [
    "pr5.to_df() #id>0"
   ]
  },
  {
   "cell_type": "code",
   "execution_count": 22,
   "metadata": {},
   "outputs": [
    {
     "data": {
      "text/html": [
       "<div>\n",
       "<style scoped>\n",
       "    .dataframe tbody tr th:only-of-type {\n",
       "        vertical-align: middle;\n",
       "    }\n",
       "\n",
       "    .dataframe tbody tr th {\n",
       "        vertical-align: top;\n",
       "    }\n",
       "\n",
       "    .dataframe thead th {\n",
       "        text-align: right;\n",
       "    }\n",
       "</style>\n",
       "<table border=\"1\" class=\"dataframe\">\n",
       "  <thead>\n",
       "    <tr style=\"text-align: right;\">\n",
       "      <th></th>\n",
       "      <th>id</th>\n",
       "      <th>quality</th>\n",
       "      <th>price</th>\n",
       "    </tr>\n",
       "  </thead>\n",
       "  <tbody>\n",
       "    <tr>\n",
       "      <th>0</th>\n",
       "      <td>-1</td>\n",
       "      <td>-100</td>\n",
       "      <td>-10000</td>\n",
       "    </tr>\n",
       "  </tbody>\n",
       "</table>\n",
       "</div>"
      ],
      "text/plain": [
       "   id  quality  price\n",
       "0  -1     -100 -10000"
      ]
     },
     "execution_count": 22,
     "metadata": {},
     "output_type": "execute_result"
    }
   ],
   "source": [
    "pr6.to_df() #id<0"
   ]
  },
  {
   "cell_type": "code",
   "execution_count": 23,
   "metadata": {},
   "outputs": [
    {
     "data": {
      "text/html": [
       "<div>\n",
       "<style scoped>\n",
       "    .dataframe tbody tr th:only-of-type {\n",
       "        vertical-align: middle;\n",
       "    }\n",
       "\n",
       "    .dataframe tbody tr th {\n",
       "        vertical-align: top;\n",
       "    }\n",
       "\n",
       "    .dataframe thead th {\n",
       "        text-align: right;\n",
       "    }\n",
       "</style>\n",
       "<table border=\"1\" class=\"dataframe\">\n",
       "  <thead>\n",
       "    <tr style=\"text-align: right;\">\n",
       "      <th></th>\n",
       "      <th>id</th>\n",
       "      <th>max_quality</th>\n",
       "      <th>cost</th>\n",
       "      <th>capital</th>\n",
       "      <th>pur</th>\n",
       "      <th>price</th>\n",
       "      <th>capital_history</th>\n",
       "      <th>cost_history</th>\n",
       "      <th>quality_history</th>\n",
       "      <th>pur_history</th>\n",
       "      <th>price_history</th>\n",
       "    </tr>\n",
       "  </thead>\n",
       "  <tbody>\n",
       "    <tr>\n",
       "      <th>0</th>\n",
       "      <td>7</td>\n",
       "      <td>15</td>\n",
       "      <td>10</td>\n",
       "      <td>310</td>\n",
       "      <td>1</td>\n",
       "      <td>20</td>\n",
       "      <td>[]</td>\n",
       "      <td>[]</td>\n",
       "      <td>[]</td>\n",
       "      <td>[]</td>\n",
       "      <td>[]</td>\n",
       "    </tr>\n",
       "  </tbody>\n",
       "</table>\n",
       "</div>"
      ],
      "text/plain": [
       "   id  max_quality  cost  capital  pur  price capital_history cost_history  \\\n",
       "0   7           15    10      310    1     20              []           []   \n",
       "\n",
       "  quality_history pur_history price_history  \n",
       "0              []          []            []  "
      ]
     },
     "execution_count": 23,
     "metadata": {},
     "output_type": "execute_result"
    }
   ],
   "source": [
    "fact_tr1.to_df()  #capital=310 pur=1"
   ]
  },
  {
   "cell_type": "code",
   "execution_count": 24,
   "metadata": {},
   "outputs": [
    {
     "data": {
      "text/html": [
       "<div>\n",
       "<style scoped>\n",
       "    .dataframe tbody tr th:only-of-type {\n",
       "        vertical-align: middle;\n",
       "    }\n",
       "\n",
       "    .dataframe tbody tr th {\n",
       "        vertical-align: top;\n",
       "    }\n",
       "\n",
       "    .dataframe thead th {\n",
       "        text-align: right;\n",
       "    }\n",
       "</style>\n",
       "<table border=\"1\" class=\"dataframe\">\n",
       "  <thead>\n",
       "    <tr style=\"text-align: right;\">\n",
       "      <th></th>\n",
       "      <th>id</th>\n",
       "      <th>max_quality</th>\n",
       "      <th>cost</th>\n",
       "      <th>capital</th>\n",
       "      <th>pur</th>\n",
       "      <th>price</th>\n",
       "      <th>capital_history</th>\n",
       "      <th>cost_history</th>\n",
       "      <th>quality_history</th>\n",
       "      <th>pur_history</th>\n",
       "      <th>price_history</th>\n",
       "    </tr>\n",
       "  </thead>\n",
       "  <tbody>\n",
       "    <tr>\n",
       "      <th>0</th>\n",
       "      <td>8</td>\n",
       "      <td>15</td>\n",
       "      <td>10</td>\n",
       "      <td>-5</td>\n",
       "      <td>0</td>\n",
       "      <td>20</td>\n",
       "      <td>[]</td>\n",
       "      <td>[]</td>\n",
       "      <td>[]</td>\n",
       "      <td>[]</td>\n",
       "      <td>[]</td>\n",
       "    </tr>\n",
       "  </tbody>\n",
       "</table>\n",
       "</div>"
      ],
      "text/plain": [
       "   id  max_quality  cost  capital  pur  price capital_history cost_history  \\\n",
       "0   8           15    10       -5    0     20              []           []   \n",
       "\n",
       "  quality_history pur_history price_history  \n",
       "0              []          []            []  "
      ]
     },
     "execution_count": 24,
     "metadata": {},
     "output_type": "execute_result"
    }
   ],
   "source": [
    "fact_tr2.to_df()  #capital=-5 pur=0"
   ]
  },
  {
   "cell_type": "code",
   "execution_count": 25,
   "metadata": {},
   "outputs": [
    {
     "data": {
      "text/html": [
       "<div>\n",
       "<style scoped>\n",
       "    .dataframe tbody tr th:only-of-type {\n",
       "        vertical-align: middle;\n",
       "    }\n",
       "\n",
       "    .dataframe tbody tr th {\n",
       "        vertical-align: top;\n",
       "    }\n",
       "\n",
       "    .dataframe thead th {\n",
       "        text-align: right;\n",
       "    }\n",
       "</style>\n",
       "<table border=\"1\" class=\"dataframe\">\n",
       "  <thead>\n",
       "    <tr style=\"text-align: right;\">\n",
       "      <th></th>\n",
       "      <th>id</th>\n",
       "      <th>max_quality</th>\n",
       "      <th>cost</th>\n",
       "      <th>capital</th>\n",
       "      <th>pur</th>\n",
       "      <th>price</th>\n",
       "      <th>capital_history</th>\n",
       "      <th>cost_history</th>\n",
       "      <th>quality_history</th>\n",
       "      <th>pur_history</th>\n",
       "      <th>price_history</th>\n",
       "    </tr>\n",
       "  </thead>\n",
       "  <tbody>\n",
       "    <tr>\n",
       "      <th>0</th>\n",
       "      <td>21</td>\n",
       "      <td>5</td>\n",
       "      <td>22</td>\n",
       "      <td>350</td>\n",
       "      <td>0</td>\n",
       "      <td>0</td>\n",
       "      <td>[487.36, 300, 350]</td>\n",
       "      <td>[22, 22, 22]</td>\n",
       "      <td>[5, 5, 5]</td>\n",
       "      <td>[0, 0, 0]</td>\n",
       "      <td>[0, 0, 0]</td>\n",
       "    </tr>\n",
       "  </tbody>\n",
       "</table>\n",
       "</div>"
      ],
      "text/plain": [
       "   id  max_quality  cost  capital  pur  price     capital_history  \\\n",
       "0  21            5    22      350    0      0  [487.36, 300, 350]   \n",
       "\n",
       "   cost_history quality_history pur_history price_history  \n",
       "0  [22, 22, 22]       [5, 5, 5]   [0, 0, 0]     [0, 0, 0]  "
      ]
     },
     "execution_count": 25,
     "metadata": {},
     "output_type": "execute_result"
    }
   ],
   "source": [
    "ht.to_df() # capital_hist=[rand, 300, 350]"
   ]
  },
  {
   "cell_type": "code",
   "execution_count": 26,
   "metadata": {},
   "outputs": [
    {
     "data": {
      "text/html": [
       "<div>\n",
       "<style scoped>\n",
       "    .dataframe tbody tr th:only-of-type {\n",
       "        vertical-align: middle;\n",
       "    }\n",
       "\n",
       "    .dataframe tbody tr th {\n",
       "        vertical-align: top;\n",
       "    }\n",
       "\n",
       "    .dataframe thead th {\n",
       "        text-align: right;\n",
       "    }\n",
       "</style>\n",
       "<table border=\"1\" class=\"dataframe\">\n",
       "  <thead>\n",
       "    <tr style=\"text-align: right;\">\n",
       "      <th></th>\n",
       "      <th>id</th>\n",
       "      <th>max_quality</th>\n",
       "      <th>cost</th>\n",
       "      <th>capital</th>\n",
       "      <th>pur</th>\n",
       "      <th>price</th>\n",
       "      <th>capital_history</th>\n",
       "      <th>cost_history</th>\n",
       "      <th>quality_history</th>\n",
       "      <th>pur_history</th>\n",
       "      <th>price_history</th>\n",
       "    </tr>\n",
       "  </thead>\n",
       "  <tbody>\n",
       "    <tr>\n",
       "      <th>0</th>\n",
       "      <td>2</td>\n",
       "      <td>21</td>\n",
       "      <td>10</td>\n",
       "      <td>304</td>\n",
       "      <td>4</td>\n",
       "      <td>11</td>\n",
       "      <td>[301, 302, 303, 304]</td>\n",
       "      <td>[10, 10, 10, 10]</td>\n",
       "      <td>[21, 21, 21, 21]</td>\n",
       "      <td>[1, 2, 3, 4]</td>\n",
       "      <td>[11, 11, 11, 11]</td>\n",
       "    </tr>\n",
       "  </tbody>\n",
       "</table>\n",
       "</div>"
      ],
      "text/plain": [
       "   id  max_quality  cost  capital  pur  price       capital_history  \\\n",
       "0   2           21    10      304    4     11  [301, 302, 303, 304]   \n",
       "\n",
       "       cost_history   quality_history   pur_history     price_history  \n",
       "0  [10, 10, 10, 10]  [21, 21, 21, 21]  [1, 2, 3, 4]  [11, 11, 11, 11]  "
      ]
     },
     "execution_count": 26,
     "metadata": {},
     "output_type": "execute_result"
    }
   ],
   "source": [
    "fact_h_lst[2].to_df()  #capital_history=[301, 302, 303, 304] pur=4"
   ]
  },
  {
   "cell_type": "code",
   "execution_count": 27,
   "metadata": {},
   "outputs": [
    {
     "data": {
      "text/plain": [
       "array([[<matplotlib.axes._subplots.AxesSubplot object at 0x7f3d2f8458d0>,\n",
       "        <matplotlib.axes._subplots.AxesSubplot object at 0x7f3d2f7b1320>],\n",
       "       [<matplotlib.axes._subplots.AxesSubplot object at 0x7f3d2f75e470>,\n",
       "        <matplotlib.axes._subplots.AxesSubplot object at 0x7f3d2f7905c0>]],\n",
       "      dtype=object)"
      ]
     },
     "execution_count": 27,
     "metadata": {},
     "output_type": "execute_result"
    },
    {
     "data": {
      "image/png": "[encoded data removed]",
      "text/plain": [
       "<Figure size 432x288 with 4 Axes>"
      ]
     },
     "metadata": {
      "needs_background": "light"
     },
     "output_type": "display_data"
    }
   ],
   "source": [
    "params_df.hist()"
   ]
  },
  {
   "cell_type": "code",
   "execution_count": 28,
   "metadata": {},
   "outputs": [
    {
     "data": {
      "text/plain": [
       "0.0"
      ]
     },
     "execution_count": 28,
     "metadata": {},
     "output_type": "execute_result"
    }
   ],
   "source": [
    "len(params_df[params_df['capital_addon']>0])/len(params_df)  # 0"
   ]
  },
  {
   "cell_type": "code",
   "execution_count": 34,
   "metadata": {},
   "outputs": [
    {
     "name": "stdout",
     "output_type": "stream",
     "text": [
      "3\n",
      "1\n",
      "3\n",
      "2\n",
      "3\n",
      "2\n",
      "3\n",
      "2\n"
     ]
    }
   ],
   "source": [
    "# продажи были - модернизировались, продажи пропали\n",
    "fact_tr31=factory(id=31)\n",
    "fact_tr31.cost=10\n",
    "fact_tr31.max_quality=15\n",
    "fact_tr31.capital=300\n",
    "fact_tr31.produce(product_id=31, price=11, quality=15)\n",
    "\n",
    "fact_tr31.trade()\n",
    "fact_tr31.hist()\n",
    "fact_tr31.modernise()\n",
    "fact_tr31.hist()\n",
    "fact_tr31.to_null()\n",
    "fact_tr31.modernise()\n",
    "fact_tr31.hist()\n",
    "\n",
    "# продажи были - модернизировались, продажи остались\n",
    "fact_tr32=factory(id=31)\n",
    "fact_tr32.cost=10\n",
    "fact_tr32.max_quality=15\n",
    "fact_tr32.capital=300\n",
    "fact_tr32.produce(product_id=31, price=11, quality=15)\n",
    "\n",
    "fact_tr32.trade()\n",
    "fact_tr32.hist()\n",
    "fact_tr32.modernise()\n",
    "fact_tr32.trade()\n",
    "fact_tr32.hist()\n",
    "fact_tr32.modernise()\n",
    "fact_tr32.hist()\n",
    "\n",
    "# продажи не было - модернизировались, продажи появились\n",
    "fact_tr33=factory(id=31)\n",
    "fact_tr33.cost=10\n",
    "fact_tr33.max_quality=15\n",
    "fact_tr33.capital=300\n",
    "fact_tr33.produce(product_id=31, price=11, quality=15)\n",
    "\n",
    "fact_tr33.hist()\n",
    "fact_tr33.modernise()\n",
    "fact_tr33.trade()\n",
    "fact_tr33.hist()\n",
    "fact_tr33.modernise()\n",
    "fact_tr33.hist()\n",
    "\n",
    "# продажи не было - модернизировались, продажи не появились\n",
    "fact_tr34=factory(id=31)\n",
    "fact_tr34.cost=10\n",
    "fact_tr34.max_quality=15\n",
    "fact_tr34.capital=300\n",
    "fact_tr34.produce(product_id=31, price=11, quality=15)\n",
    "\n",
    "fact_tr34.hist()\n",
    "fact_tr34.modernise()\n",
    "fact_tr34.hist()\n",
    "fact_tr34.modernise()\n",
    "fact_tr34.hist()\n",
    "\n"
   ]
  },
  {
   "cell_type": "code",
   "execution_count": 35,
   "metadata": {},
   "outputs": [
    {
     "data": {
      "text/html": [
       "<div>\n",
       "<style scoped>\n",
       "    .dataframe tbody tr th:only-of-type {\n",
       "        vertical-align: middle;\n",
       "    }\n",
       "\n",
       "    .dataframe tbody tr th {\n",
       "        vertical-align: top;\n",
       "    }\n",
       "\n",
       "    .dataframe thead th {\n",
       "        text-align: right;\n",
       "    }\n",
       "</style>\n",
       "<table border=\"1\" class=\"dataframe\">\n",
       "  <thead>\n",
       "    <tr style=\"text-align: right;\">\n",
       "      <th></th>\n",
       "      <th>id</th>\n",
       "      <th>max_quality</th>\n",
       "      <th>cost</th>\n",
       "      <th>capital</th>\n",
       "      <th>pur</th>\n",
       "      <th>price</th>\n",
       "      <th>capital_history</th>\n",
       "      <th>cost_history</th>\n",
       "      <th>quality_history</th>\n",
       "      <th>pur_history</th>\n",
       "      <th>price_history</th>\n",
       "    </tr>\n",
       "  </thead>\n",
       "  <tbody>\n",
       "    <tr>\n",
       "      <th>0</th>\n",
       "      <td>31</td>\n",
       "      <td>14.0</td>\n",
       "      <td>11.15</td>\n",
       "      <td>219.88</td>\n",
       "      <td>0</td>\n",
       "      <td>0</td>\n",
       "      <td>[301, 219.88, 219.88]</td>\n",
       "      <td>[10, 11.15, 11.15]</td>\n",
       "      <td>[15, 14.0, 14.0]</td>\n",
       "      <td>[1, 1, 0]</td>\n",
       "      <td>[11, 11, 0]</td>\n",
       "    </tr>\n",
       "  </tbody>\n",
       "</table>\n",
       "</div>"
      ],
      "text/plain": [
       "   id  max_quality   cost  capital  pur  price        capital_history  \\\n",
       "0  31         14.0  11.15   219.88    0      0  [301, 219.88, 219.88]   \n",
       "\n",
       "         cost_history   quality_history pur_history price_history  \n",
       "0  [10, 11.15, 11.15]  [15, 14.0, 14.0]   [1, 1, 0]   [11, 11, 0]  "
      ]
     },
     "execution_count": 35,
     "metadata": {},
     "output_type": "execute_result"
    }
   ],
   "source": [
    "fact_tr31.to_df()"
   ]
  },
  {
   "cell_type": "code",
   "execution_count": 36,
   "metadata": {},
   "outputs": [
    {
     "data": {
      "text/html": [
       "<div>\n",
       "<style scoped>\n",
       "    .dataframe tbody tr th:only-of-type {\n",
       "        vertical-align: middle;\n",
       "    }\n",
       "\n",
       "    .dataframe tbody tr th {\n",
       "        vertical-align: top;\n",
       "    }\n",
       "\n",
       "    .dataframe thead th {\n",
       "        text-align: right;\n",
       "    }\n",
       "</style>\n",
       "<table border=\"1\" class=\"dataframe\">\n",
       "  <thead>\n",
       "    <tr style=\"text-align: right;\">\n",
       "      <th></th>\n",
       "      <th>id</th>\n",
       "      <th>max_quality</th>\n",
       "      <th>cost</th>\n",
       "      <th>capital</th>\n",
       "      <th>pur</th>\n",
       "      <th>price</th>\n",
       "      <th>capital_history</th>\n",
       "      <th>cost_history</th>\n",
       "      <th>quality_history</th>\n",
       "      <th>pur_history</th>\n",
       "      <th>price_history</th>\n",
       "    </tr>\n",
       "  </thead>\n",
       "  <tbody>\n",
       "    <tr>\n",
       "      <th>0</th>\n",
       "      <td>31</td>\n",
       "      <td>15.0</td>\n",
       "      <td>10.44</td>\n",
       "      <td>51.39</td>\n",
       "      <td>2</td>\n",
       "      <td>11</td>\n",
       "      <td>[301, 148.32, 51.389999999999986]</td>\n",
       "      <td>[10, 10.06, 10.440000000000001]</td>\n",
       "      <td>[15, 15.0, 15.0]</td>\n",
       "      <td>[1, 2, 2]</td>\n",
       "      <td>[11, 11, 11]</td>\n",
       "    </tr>\n",
       "  </tbody>\n",
       "</table>\n",
       "</div>"
      ],
      "text/plain": [
       "   id  max_quality   cost  capital  pur  price  \\\n",
       "0  31         15.0  10.44    51.39    2     11   \n",
       "\n",
       "                     capital_history                     cost_history  \\\n",
       "0  [301, 148.32, 51.389999999999986]  [10, 10.06, 10.440000000000001]   \n",
       "\n",
       "    quality_history pur_history price_history  \n",
       "0  [15, 15.0, 15.0]   [1, 2, 2]  [11, 11, 11]  "
      ]
     },
     "execution_count": 36,
     "metadata": {},
     "output_type": "execute_result"
    }
   ],
   "source": [
    "fact_tr32.to_df()"
   ]
  },
  {
   "cell_type": "code",
   "execution_count": 37,
   "metadata": {},
   "outputs": [
    {
     "data": {
      "text/html": [
       "<div>\n",
       "<style scoped>\n",
       "    .dataframe tbody tr th:only-of-type {\n",
       "        vertical-align: middle;\n",
       "    }\n",
       "\n",
       "    .dataframe tbody tr th {\n",
       "        vertical-align: top;\n",
       "    }\n",
       "\n",
       "    .dataframe thead th {\n",
       "        text-align: right;\n",
       "    }\n",
       "</style>\n",
       "<table border=\"1\" class=\"dataframe\">\n",
       "  <thead>\n",
       "    <tr style=\"text-align: right;\">\n",
       "      <th></th>\n",
       "      <th>id</th>\n",
       "      <th>max_quality</th>\n",
       "      <th>cost</th>\n",
       "      <th>capital</th>\n",
       "      <th>pur</th>\n",
       "      <th>price</th>\n",
       "      <th>capital_history</th>\n",
       "      <th>cost_history</th>\n",
       "      <th>quality_history</th>\n",
       "      <th>pur_history</th>\n",
       "      <th>price_history</th>\n",
       "    </tr>\n",
       "  </thead>\n",
       "  <tbody>\n",
       "    <tr>\n",
       "      <th>0</th>\n",
       "      <td>31</td>\n",
       "      <td>17.0</td>\n",
       "      <td>4.73</td>\n",
       "      <td>171.8</td>\n",
       "      <td>1</td>\n",
       "      <td>11</td>\n",
       "      <td>[300, 295.53, 171.79999999999995]</td>\n",
       "      <td>[10, 5.47, 4.7299999999999995]</td>\n",
       "      <td>[15, 17.0, 17.0]</td>\n",
       "      <td>[0, 1, 1]</td>\n",
       "      <td>[11, 11, 11]</td>\n",
       "    </tr>\n",
       "  </tbody>\n",
       "</table>\n",
       "</div>"
      ],
      "text/plain": [
       "   id  max_quality  cost  capital  pur  price  \\\n",
       "0  31         17.0  4.73    171.8    1     11   \n",
       "\n",
       "                     capital_history                    cost_history  \\\n",
       "0  [300, 295.53, 171.79999999999995]  [10, 5.47, 4.7299999999999995]   \n",
       "\n",
       "    quality_history pur_history price_history  \n",
       "0  [15, 17.0, 17.0]   [0, 1, 1]  [11, 11, 11]  "
      ]
     },
     "execution_count": 37,
     "metadata": {},
     "output_type": "execute_result"
    }
   ],
   "source": [
    "fact_tr33.to_df()"
   ]
  },
  {
   "cell_type": "code",
   "execution_count": 38,
   "metadata": {},
   "outputs": [
    {
     "data": {
      "text/html": [
       "<div>\n",
       "<style scoped>\n",
       "    .dataframe tbody tr th:only-of-type {\n",
       "        vertical-align: middle;\n",
       "    }\n",
       "\n",
       "    .dataframe tbody tr th {\n",
       "        vertical-align: top;\n",
       "    }\n",
       "\n",
       "    .dataframe thead th {\n",
       "        text-align: right;\n",
       "    }\n",
       "</style>\n",
       "<table border=\"1\" class=\"dataframe\">\n",
       "  <thead>\n",
       "    <tr style=\"text-align: right;\">\n",
       "      <th></th>\n",
       "      <th>id</th>\n",
       "      <th>max_quality</th>\n",
       "      <th>cost</th>\n",
       "      <th>capital</th>\n",
       "      <th>pur</th>\n",
       "      <th>price</th>\n",
       "      <th>capital_history</th>\n",
       "      <th>cost_history</th>\n",
       "      <th>quality_history</th>\n",
       "      <th>pur_history</th>\n",
       "      <th>price_history</th>\n",
       "    </tr>\n",
       "  </thead>\n",
       "  <tbody>\n",
       "    <tr>\n",
       "      <th>0</th>\n",
       "      <td>31</td>\n",
       "      <td>16.0</td>\n",
       "      <td>3.93</td>\n",
       "      <td>160.53</td>\n",
       "      <td>0</td>\n",
       "      <td>11</td>\n",
       "      <td>[300, 229.17000000000002, 160.53000000000003]</td>\n",
       "      <td>[10, 6.52, 3.9299999999999997]</td>\n",
       "      <td>[15, 16.0, 16.0]</td>\n",
       "      <td>[0, 0, 0]</td>\n",
       "      <td>[11, 11, 11]</td>\n",
       "    </tr>\n",
       "  </tbody>\n",
       "</table>\n",
       "</div>"
      ],
      "text/plain": [
       "   id  max_quality  cost  capital  pur  price  \\\n",
       "0  31         16.0  3.93   160.53    0     11   \n",
       "\n",
       "                                 capital_history  \\\n",
       "0  [300, 229.17000000000002, 160.53000000000003]   \n",
       "\n",
       "                     cost_history   quality_history pur_history price_history  \n",
       "0  [10, 6.52, 3.9299999999999997]  [15, 16.0, 16.0]   [0, 0, 0]  [11, 11, 11]  "
      ]
     },
     "execution_count": 38,
     "metadata": {},
     "output_type": "execute_result"
    }
   ],
   "source": [
    "fact_tr34.to_df()"
   ]
  },
  {
   "cell_type": "code",
   "execution_count": null,
   "metadata": {},
   "outputs": [],
   "source": []
  }
 ],
 "metadata": {
  "kernelspec": {
   "display_name": "Python 3",
   "language": "python",
   "name": "python3"
  },
  "language_info": {
   "codemirror_mode": {
    "name": "ipython",
    "version": 3
   },
   "file_extension": ".py",
   "mimetype": "text/x-python",
   "name": "python",
   "nbconvert_exporter": "python",
   "pygments_lexer": "ipython3",
   "version": "3.7.3"
  }
 },
 "nbformat": 4,
 "nbformat_minor": 2
}
